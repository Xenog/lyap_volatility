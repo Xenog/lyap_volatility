{
 "cells": [
  {
   "cell_type": "code",
   "execution_count": 1,
   "metadata": {},
   "outputs": [
    {
     "name": "stderr",
     "output_type": "stream",
     "text": [
      "C:\\Users\\Francesco\\anaconda3\\lib\\site-packages\\tensorflow\\python\\framework\\dtypes.py:516: FutureWarning: Passing (type, 1) or '1type' as a synonym of type is deprecated; in a future version of numpy, it will be understood as (type, (1,)) / '(1,)type'.\n",
      "  _np_qint8 = np.dtype([(\"qint8\", np.int8, 1)])\n",
      "C:\\Users\\Francesco\\anaconda3\\lib\\site-packages\\tensorflow\\python\\framework\\dtypes.py:517: FutureWarning: Passing (type, 1) or '1type' as a synonym of type is deprecated; in a future version of numpy, it will be understood as (type, (1,)) / '(1,)type'.\n",
      "  _np_quint8 = np.dtype([(\"quint8\", np.uint8, 1)])\n",
      "C:\\Users\\Francesco\\anaconda3\\lib\\site-packages\\tensorflow\\python\\framework\\dtypes.py:518: FutureWarning: Passing (type, 1) or '1type' as a synonym of type is deprecated; in a future version of numpy, it will be understood as (type, (1,)) / '(1,)type'.\n",
      "  _np_qint16 = np.dtype([(\"qint16\", np.int16, 1)])\n",
      "C:\\Users\\Francesco\\anaconda3\\lib\\site-packages\\tensorflow\\python\\framework\\dtypes.py:519: FutureWarning: Passing (type, 1) or '1type' as a synonym of type is deprecated; in a future version of numpy, it will be understood as (type, (1,)) / '(1,)type'.\n",
      "  _np_quint16 = np.dtype([(\"quint16\", np.uint16, 1)])\n",
      "C:\\Users\\Francesco\\anaconda3\\lib\\site-packages\\tensorflow\\python\\framework\\dtypes.py:520: FutureWarning: Passing (type, 1) or '1type' as a synonym of type is deprecated; in a future version of numpy, it will be understood as (type, (1,)) / '(1,)type'.\n",
      "  _np_qint32 = np.dtype([(\"qint32\", np.int32, 1)])\n",
      "C:\\Users\\Francesco\\anaconda3\\lib\\site-packages\\tensorflow\\python\\framework\\dtypes.py:525: FutureWarning: Passing (type, 1) or '1type' as a synonym of type is deprecated; in a future version of numpy, it will be understood as (type, (1,)) / '(1,)type'.\n",
      "  np_resource = np.dtype([(\"resource\", np.ubyte, 1)])\n",
      "C:\\Users\\Francesco\\anaconda3\\lib\\site-packages\\tensorboard\\compat\\tensorflow_stub\\dtypes.py:541: FutureWarning: Passing (type, 1) or '1type' as a synonym of type is deprecated; in a future version of numpy, it will be understood as (type, (1,)) / '(1,)type'.\n",
      "  _np_qint8 = np.dtype([(\"qint8\", np.int8, 1)])\n",
      "C:\\Users\\Francesco\\anaconda3\\lib\\site-packages\\tensorboard\\compat\\tensorflow_stub\\dtypes.py:542: FutureWarning: Passing (type, 1) or '1type' as a synonym of type is deprecated; in a future version of numpy, it will be understood as (type, (1,)) / '(1,)type'.\n",
      "  _np_quint8 = np.dtype([(\"quint8\", np.uint8, 1)])\n",
      "C:\\Users\\Francesco\\anaconda3\\lib\\site-packages\\tensorboard\\compat\\tensorflow_stub\\dtypes.py:543: FutureWarning: Passing (type, 1) or '1type' as a synonym of type is deprecated; in a future version of numpy, it will be understood as (type, (1,)) / '(1,)type'.\n",
      "  _np_qint16 = np.dtype([(\"qint16\", np.int16, 1)])\n",
      "C:\\Users\\Francesco\\anaconda3\\lib\\site-packages\\tensorboard\\compat\\tensorflow_stub\\dtypes.py:544: FutureWarning: Passing (type, 1) or '1type' as a synonym of type is deprecated; in a future version of numpy, it will be understood as (type, (1,)) / '(1,)type'.\n",
      "  _np_quint16 = np.dtype([(\"quint16\", np.uint16, 1)])\n",
      "C:\\Users\\Francesco\\anaconda3\\lib\\site-packages\\tensorboard\\compat\\tensorflow_stub\\dtypes.py:545: FutureWarning: Passing (type, 1) or '1type' as a synonym of type is deprecated; in a future version of numpy, it will be understood as (type, (1,)) / '(1,)type'.\n",
      "  _np_qint32 = np.dtype([(\"qint32\", np.int32, 1)])\n",
      "C:\\Users\\Francesco\\anaconda3\\lib\\site-packages\\tensorboard\\compat\\tensorflow_stub\\dtypes.py:550: FutureWarning: Passing (type, 1) or '1type' as a synonym of type is deprecated; in a future version of numpy, it will be understood as (type, (1,)) / '(1,)type'.\n",
      "  np_resource = np.dtype([(\"resource\", np.ubyte, 1)])\n"
     ]
    },
    {
     "ename": "ModuleNotFoundError",
     "evalue": "No module named 'pandas_datareader'",
     "output_type": "error",
     "traceback": [
      "\u001b[1;31m---------------------------------------------------------------------------\u001b[0m",
      "\u001b[1;31mModuleNotFoundError\u001b[0m                       Traceback (most recent call last)",
      "\u001b[1;32m<ipython-input-1-18b4ab339688>\u001b[0m in \u001b[0;36m<module>\u001b[1;34m\u001b[0m\n\u001b[0;32m      6\u001b[0m \u001b[1;32mimport\u001b[0m \u001b[0mnumpy\u001b[0m \u001b[1;32mas\u001b[0m \u001b[0mnp\u001b[0m\u001b[1;33m\u001b[0m\u001b[1;33m\u001b[0m\u001b[0m\n\u001b[0;32m      7\u001b[0m \u001b[1;32mimport\u001b[0m \u001b[0mtensorflow\u001b[0m \u001b[1;32mas\u001b[0m \u001b[0mtf\u001b[0m\u001b[1;33m\u001b[0m\u001b[1;33m\u001b[0m\u001b[0m\n\u001b[1;32m----> 8\u001b[1;33m \u001b[1;32mfrom\u001b[0m \u001b[0mpandas_datareader\u001b[0m \u001b[1;32mimport\u001b[0m \u001b[0mdata\u001b[0m \u001b[1;32mas\u001b[0m \u001b[0mpdr\u001b[0m\u001b[1;33m\u001b[0m\u001b[1;33m\u001b[0m\u001b[0m\n\u001b[0m\u001b[0;32m      9\u001b[0m \u001b[1;32mfrom\u001b[0m \u001b[0mtensorflow\u001b[0m\u001b[1;33m.\u001b[0m\u001b[0mkeras\u001b[0m\u001b[1;33m.\u001b[0m\u001b[0mmodels\u001b[0m \u001b[1;32mimport\u001b[0m \u001b[0mSequential\u001b[0m\u001b[1;33m\u001b[0m\u001b[1;33m\u001b[0m\u001b[0m\n\u001b[0;32m     10\u001b[0m \u001b[1;32mfrom\u001b[0m \u001b[0mtensorflow\u001b[0m\u001b[1;33m.\u001b[0m\u001b[0mkeras\u001b[0m\u001b[1;33m.\u001b[0m\u001b[0mlayers\u001b[0m \u001b[1;32mimport\u001b[0m \u001b[0mDense\u001b[0m\u001b[1;33m\u001b[0m\u001b[1;33m\u001b[0m\u001b[0m\n",
      "\u001b[1;31mModuleNotFoundError\u001b[0m: No module named 'pandas_datareader'"
     ]
    }
   ],
   "source": [
    "import datetime as dt\n",
    "import os\n",
    "import pandas as pd\n",
    "import pickle\n",
    "import matplotlib.pyplot as plt\n",
    "import numpy as np\n",
    "import tensorflow as tf\n",
    "from pandas_datareader import data as pdr\n",
    "from tensorflow.keras.models import Sequential\n",
    "from tensorflow.keras.layers import Dense\n",
    "from sklearn.preprocessing import StandardScaler\n",
    "from jacobian import Lyapunov"
   ]
  },
  {
   "cell_type": "code",
   "execution_count": null,
   "metadata": {},
   "outputs": [],
   "source": [
    "def get_data_from_yahoo(ticker):\n",
    "    if not os.path.exists('stocks_dfs') :\n",
    "        os.makedirs('stocks_dfs')\n",
    "\n",
    "    start = dt.datetime(2010, 1, 1)\n",
    "    end = dt.datetime(2020, 3, 20)\n",
    "\n",
    "    if not os.path.exists('stocks_dfs/{}.pkl'.format(ticker)):\n",
    "        df = pdr.get_data_yahoo(ticker, start, end)\n",
    "        df.to_pickle('stocks_dfs/{}.pkl'.format(ticker))\n",
    "    else:\n",
    "        print('Already have {}'.format(ticker))"
   ]
  },
  {
   "cell_type": "code",
   "execution_count": null,
   "metadata": {},
   "outputs": [],
   "source": [
    "get_data_from_yahoo('GOOG')"
   ]
  },
  {
   "cell_type": "code",
   "execution_count": null,
   "metadata": {
    "scrolled": true
   },
   "outputs": [],
   "source": [
    "df = pd.read_pickle('stocks_dfs/GOOG.pkl')\n",
    "df.index = np.arange(len(df))\n",
    "df"
   ]
  },
  {
   "cell_type": "code",
   "execution_count": 2,
   "metadata": {
    "scrolled": true
   },
   "outputs": [
    {
     "ename": "NameError",
     "evalue": "name 'df' is not defined",
     "output_type": "error",
     "traceback": [
      "\u001b[1;31m---------------------------------------------------------------------------\u001b[0m",
      "\u001b[1;31mNameError\u001b[0m                                 Traceback (most recent call last)",
      "\u001b[1;32m<ipython-input-2-addbfd5af5e3>\u001b[0m in \u001b[0;36m<module>\u001b[1;34m\u001b[0m\n\u001b[1;32m----> 1\u001b[1;33m \u001b[0mclose\u001b[0m \u001b[1;33m=\u001b[0m \u001b[0mdf\u001b[0m\u001b[1;33m.\u001b[0m\u001b[0mClose\u001b[0m\u001b[1;33m\u001b[0m\u001b[1;33m\u001b[0m\u001b[0m\n\u001b[0m\u001b[0;32m      2\u001b[0m \u001b[0mplt\u001b[0m\u001b[1;33m.\u001b[0m\u001b[0mplot\u001b[0m\u001b[1;33m(\u001b[0m\u001b[0mclose\u001b[0m\u001b[1;33m)\u001b[0m\u001b[1;33m\u001b[0m\u001b[1;33m\u001b[0m\u001b[0m\n",
      "\u001b[1;31mNameError\u001b[0m: name 'df' is not defined"
     ]
    }
   ],
   "source": [
    "close = df.Close\n",
    "plt.plot(close)"
   ]
  },
  {
   "cell_type": "code",
   "execution_count": 186,
   "metadata": {},
   "outputs": [],
   "source": [
    "# Dimensionality parameters\n",
    "L = 1   # step granularity\n",
    "m = 10  # window size\n",
    "q = 64  # number of neurons"
   ]
  },
  {
   "cell_type": "code",
   "execution_count": 187,
   "metadata": {},
   "outputs": [],
   "source": [
    "def sliding_window(df, m, L): \n",
    "    slid_w = []\n",
    "    targets = []\n",
    "    for i,row in df.iterrows():\n",
    "        if i + m*L < len(df.index):\n",
    "            slid_w.append(list(df.loc[i:i+L*m-1:L,'Close']))\n",
    "            targets.append(df.loc[i+m*L,'Close'])\n",
    "    data = pd.DataFrame(slid_w)\n",
    "    return data,targets\n",
    "\n",
    "X, y = sliding_window(df, m, L)\n",
    "y = pd.DataFrame(y, columns = ['target'])"
   ]
  },
  {
   "cell_type": "code",
   "execution_count": 188,
   "metadata": {},
   "outputs": [],
   "source": [
    "scaler = StandardScaler()\n",
    "scaler.fit(pd.concat([X, y]))\n",
    "X = pd.DataFrame(scaler.transform(pd.concat([X, y], axis = 1)))"
   ]
  },
  {
   "cell_type": "code",
   "execution_count": 189,
   "metadata": {},
   "outputs": [],
   "source": [
    "y = X.loc[:,10]\n",
    "X = X.loc[:,:9]"
   ]
  },
  {
   "cell_type": "code",
   "execution_count": 190,
   "metadata": {},
   "outputs": [
    {
     "name": "stdout",
     "output_type": "stream",
     "text": [
      "81/81 [==============================] - 0s 525us/step - loss: 0.0012 - mse: 0.0012 - mae: 0.0213  \n"
     ]
    },
    {
     "data": {
      "text/plain": [
       "[0.0012034628307446837, 0.0012034628307446837, 0.02130170725286007]"
      ]
     },
     "execution_count": 190,
     "metadata": {},
     "output_type": "execute_result"
    }
   ],
   "source": [
    "model = Sequential([\n",
    "  Dense(q, activation='tanh', input_shape=(m,)),  \n",
    "  Dense(1),\n",
    "])\n",
    "\n",
    "model.compile(\n",
    "  optimizer='adam',\n",
    "  loss='mean_squared_error',\n",
    "  metrics=['mse','mae'],\n",
    ")\n",
    "\n",
    "model.fit(X, np.asarray(y), epochs=1000, verbose = False, batch_size = 16)\n",
    "model.evaluate(X, np.asarray(y))"
   ]
  },
  {
   "cell_type": "code",
   "execution_count": 191,
   "metadata": {},
   "outputs": [],
   "source": [
    "y_predict = pd.DataFrame(model.predict(X).reshape(1,-1)).T\n",
    "y_predict.columns = ['target']\n",
    "new_X = pd.concat([X, y_predict], axis = 1)\n",
    "new_X = pd.DataFrame(scaler.inverse_transform(new_X))\n",
    "new_y = new_X[m]"
   ]
  },
  {
   "cell_type": "code",
   "execution_count": 192,
   "metadata": {},
   "outputs": [],
   "source": [
    "new_close = close[m:]\n",
    "new_close.index = range(len(new_y))"
   ]
  },
  {
   "cell_type": "code",
   "execution_count": 196,
   "metadata": {},
   "outputs": [
    {
     "data": {
      "text/plain": [
       "[<matplotlib.lines.Line2D at 0x244bb9ca280>]"
      ]
     },
     "execution_count": 196,
     "metadata": {},
     "output_type": "execute_result"
    },
    {
     "data": {
      "image/png": "[encoded data removed]",
      "text/plain": [
       "<Figure size 432x288 with 1 Axes>"
      ]
     },
     "metadata": {
      "needs_background": "light"
     },
     "output_type": "display_data"
    }
   ],
   "source": [
    "plt.plot(new_y[0:])\n",
    "plt.plot(new_close[0:], c = 'black')"
   ]
  },
  {
   "cell_type": "code",
   "execution_count": 194,
   "metadata": {},
   "outputs": [
    {
     "data": {
      "text/plain": [
       "[array([[-1.33341610e-01,  8.00150186e-02,  1.61825027e-02,\n",
       "         -3.29817176e-01,  5.96077383e-01, -1.95204020e-01,\n",
       "          4.18845236e-01, -2.76185185e-01, -4.22537737e-02,\n",
       "         -3.48812789e-02, -1.71336800e-01,  3.76654677e-02,\n",
       "         -3.15386117e-01,  1.39530927e-01,  7.30381459e-02,\n",
       "          3.65718335e-01,  3.46180111e-01,  9.72696245e-02,\n",
       "         -1.24680854e-01, -2.69482523e-01, -5.85543178e-02,\n",
       "          1.56796888e-01,  1.26799911e-01,  8.61751363e-02,\n",
       "          4.87438636e-04,  5.64324223e-02, -5.54163195e-02,\n",
       "          1.26806917e-02, -1.20824657e-01,  1.27499541e-02,\n",
       "          2.06626445e-01,  5.13793528e-03,  1.03672750e-01,\n",
       "          2.06487142e-02,  3.40897441e-02, -1.24983743e-01,\n",
       "          1.40495881e-01, -1.66207254e-01,  5.13592176e-02,\n",
       "          7.11364970e-02,  1.42741978e-01,  6.93711936e-02,\n",
       "         -1.70861155e-01,  1.81608111e-01,  2.22473845e-01,\n",
       "          1.97305694e-01, -1.81004182e-01,  1.35621101e-01,\n",
       "         -4.32620287e-01,  9.52015668e-02, -1.21392176e-01,\n",
       "          1.15226522e-01, -1.23259127e-01,  2.65088558e-01,\n",
       "         -5.13034463e-02, -3.18785235e-02, -7.06556290e-02,\n",
       "         -1.48569897e-01,  3.92319888e-01,  5.58581464e-02,\n",
       "         -4.03992772e-01,  2.12841719e-01, -2.09299698e-01,\n",
       "         -1.26518279e-01],\n",
       "        [ 6.37930855e-02,  6.74923062e-02, -5.45573793e-03,\n",
       "          4.43719119e-01,  9.08782661e-01,  1.32710636e-02,\n",
       "          7.95836821e-02,  3.71109605e-01,  6.30638450e-02,\n",
       "          1.34512454e-01,  1.00444309e-01,  5.54340594e-02,\n",
       "         -1.69269234e-01, -1.79375559e-01,  1.16807356e-01,\n",
       "         -2.22240031e-01, -2.68936872e-01,  1.05875611e-01,\n",
       "          1.63527697e-01, -1.89740181e-01, -4.36607562e-02,\n",
       "         -5.74964331e-03, -2.45106995e-01, -1.67835012e-01,\n",
       "          9.27937403e-02,  2.32728243e-01,  1.55474007e-01,\n",
       "         -1.09091081e-01, -1.81445226e-01,  7.55165964e-02,\n",
       "          1.86692819e-01,  6.43533692e-02, -8.28230679e-02,\n",
       "          1.65690213e-01,  1.31344050e-01, -1.34699896e-01,\n",
       "          2.00422838e-01,  1.55558586e-01,  6.96091279e-02,\n",
       "         -2.22367585e-01, -2.71754682e-01,  3.51884663e-02,\n",
       "          1.35230288e-01, -1.03199810e-01,  1.13108218e-01,\n",
       "          1.09070271e-01,  1.25804886e-01, -1.55366793e-01,\n",
       "          1.64013773e-01, -9.05203968e-02,  1.71933486e-03,\n",
       "          6.50763959e-02,  4.88706939e-02, -3.22974026e-01,\n",
       "         -2.94761844e-02, -1.51715323e-01,  1.49193168e-01,\n",
       "         -1.67508408e-01, -3.55429381e-01,  1.11813828e-01,\n",
       "          1.89118460e-01,  2.09215045e-01,  1.18113339e-01,\n",
       "          7.48138577e-02],\n",
       "        [-1.11446321e-01,  1.39371559e-01,  4.79740789e-03,\n",
       "          1.80875376e-01,  1.51720375e-01,  2.72620201e-01,\n",
       "         -1.46236107e-01, -7.22032666e-01, -2.62652725e-01,\n",
       "          9.16123688e-02, -7.66399354e-02, -6.87387735e-02,\n",
       "          1.18811578e-01, -4.08287197e-02, -4.68480773e-02,\n",
       "         -1.61304891e-01,  1.82258978e-01, -1.37793243e-01,\n",
       "          3.64298910e-01, -2.89278418e-01,  1.90116633e-02,\n",
       "          2.78312445e-01,  1.14659846e-01,  1.22603439e-01,\n",
       "         -1.18568838e-01, -1.39820293e-01, -1.29706055e-01,\n",
       "          1.99487116e-02, -5.97803220e-02, -1.87139183e-01,\n",
       "         -9.45815742e-02, -2.71739990e-01,  4.29559425e-02,\n",
       "          2.87832487e-02, -2.28795424e-01, -6.44362792e-02,\n",
       "          3.59796137e-01, -7.01917931e-02, -4.91399430e-02,\n",
       "          2.77473599e-01,  5.31553216e-02, -1.92248613e-01,\n",
       "          1.86073691e-01, -6.36902601e-02,  1.66728601e-01,\n",
       "         -1.18158519e-01,  1.07425228e-01,  1.29912868e-01,\n",
       "         -6.19869649e-01, -3.81546207e-02, -1.67480975e-01,\n",
       "         -2.59672135e-01,  9.11314711e-02,  2.73965806e-01,\n",
       "          1.15291335e-01,  8.32195729e-02,  2.91088354e-02,\n",
       "         -1.10640228e-01,  2.98295945e-01, -2.04565868e-01,\n",
       "         -3.01653743e-01, -6.73253909e-02, -1.34012654e-01,\n",
       "          1.83551237e-01],\n",
       "        [ 3.45166922e-01,  3.36598277e-01,  1.85940892e-01,\n",
       "          8.65586698e-02,  7.06697524e-01,  8.86197016e-02,\n",
       "         -1.21887639e-01,  2.92247325e-01,  1.42478675e-01,\n",
       "         -6.14058226e-02,  2.12150645e-02, -8.50470066e-02,\n",
       "          3.14732827e-02,  2.08669320e-01, -1.31543979e-01,\n",
       "         -2.88469493e-01, -7.73782358e-02, -5.53364865e-02,\n",
       "         -1.91178784e-01, -7.87792802e-02, -2.92233545e-02,\n",
       "         -3.48046392e-01,  1.62453577e-01, -1.21455044e-01,\n",
       "         -2.00503260e-01, -9.09970626e-02, -4.58515547e-02,\n",
       "          1.97521970e-01,  2.45984882e-01,  8.35994184e-02,\n",
       "         -1.68262377e-01, -8.62364918e-02, -1.47158071e-01,\n",
       "          9.33061466e-02,  1.42001525e-01, -5.30600071e-01,\n",
       "         -6.99926689e-02, -3.82012804e-03, -1.57561839e-01,\n",
       "         -1.54704079e-01,  3.57322060e-02,  1.25804156e-01,\n",
       "         -7.04912692e-02, -7.31635764e-02, -1.59133419e-01,\n",
       "         -1.61864921e-01,  2.24363148e-01, -7.02076778e-02,\n",
       "         -5.00382669e-03, -8.45725462e-02,  2.77513057e-01,\n",
       "         -1.87003657e-01, -2.41944771e-02, -2.00516582e-02,\n",
       "          1.52506158e-01,  1.27715126e-01, -1.74335569e-01,\n",
       "          9.30719003e-02, -3.38793278e-01,  1.54501945e-01,\n",
       "          1.35220468e-01,  1.19310826e-01,  3.88305157e-01,\n",
       "         -4.23840694e-02],\n",
       "        [-1.95685192e-03,  1.97357297e-01, -9.91965607e-02,\n",
       "         -2.24763602e-01,  3.37221920e-02,  2.87357599e-01,\n",
       "         -2.52216637e-01, -5.85541725e-01,  1.22348547e-01,\n",
       "          4.15887684e-03,  1.81313619e-01,  6.89177737e-02,\n",
       "          1.01189882e-01, -7.03692660e-02,  4.16792966e-02,\n",
       "          9.16144103e-02,  8.19610283e-02, -8.18389356e-02,\n",
       "          1.50427952e-01,  5.02222851e-02,  4.37939260e-03,\n",
       "         -2.22950682e-01, -1.46664590e-01, -8.80503953e-02,\n",
       "         -7.07220361e-02, -2.99981058e-01,  8.50870460e-02,\n",
       "         -1.30856737e-01, -1.26095712e-01, -1.06111495e-02,\n",
       "         -7.19323158e-02,  1.54532805e-01,  5.25672771e-02,\n",
       "          1.33020520e-01, -3.32410261e-02, -2.84950584e-01,\n",
       "         -1.08539751e-02,  2.72821486e-01,  5.34130409e-02,\n",
       "          1.27418740e-02, -3.21044475e-02,  3.36089656e-02,\n",
       "         -8.89308527e-02,  4.55226116e-02,  3.03302944e-01,\n",
       "         -9.61220264e-02, -2.30624497e-01, -9.99688655e-02,\n",
       "         -3.78007293e-01,  1.56258911e-01,  1.75744779e-02,\n",
       "          1.84291437e-01, -1.38091207e-01,  2.85288155e-01,\n",
       "         -8.99472833e-02,  3.64446566e-02, -7.98362568e-02,\n",
       "          2.20728353e-01, -2.25143284e-01, -1.35311574e-01,\n",
       "         -2.33563513e-01, -1.44632399e-01, -1.11833345e-02,\n",
       "         -1.62867039e-01],\n",
       "        [ 5.37517592e-02,  2.41722256e-01, -1.05154790e-01,\n",
       "          2.33055025e-01,  2.06324622e-01,  3.09841465e-02,\n",
       "         -1.63614661e-01, -2.92214006e-01,  1.39509603e-01,\n",
       "         -2.18526408e-01, -1.55806452e-01, -1.58552974e-01,\n",
       "         -2.43556708e-01, -9.59541127e-02, -7.72505254e-02,\n",
       "          1.11773327e-01,  3.15969020e-01, -2.49212570e-02,\n",
       "         -1.82824463e-01, -1.31008059e-01, -2.48572275e-01,\n",
       "          2.45867342e-01, -7.09915981e-02, -1.91883966e-01,\n",
       "          2.72043973e-01,  2.65079141e-01, -8.49202275e-02,\n",
       "         -1.29650414e-01,  2.03733936e-01,  1.37342326e-02,\n",
       "          8.59511420e-02, -1.20066918e-01,  7.61648640e-02,\n",
       "         -1.68336347e-01,  3.15121049e-03, -2.61293292e-01,\n",
       "         -1.24021508e-02, -2.54719287e-01, -4.87519987e-02,\n",
       "          1.97750270e-01,  2.95249186e-02, -3.09388906e-01,\n",
       "         -3.22477357e-03, -1.48411795e-01,  2.67224461e-01,\n",
       "          1.63226724e-01,  1.53231412e-01,  1.86641991e-01,\n",
       "         -6.59465551e-01, -1.53431445e-02,  8.77325758e-02,\n",
       "          1.14391364e-01,  2.71061640e-02, -4.23419029e-02,\n",
       "         -8.36531371e-02, -1.76332176e-01,  1.23669863e-01,\n",
       "          6.07142113e-02, -1.74118325e-01, -1.24647126e-01,\n",
       "         -3.61857116e-01, -2.48409691e-04, -2.15714470e-01,\n",
       "         -6.25954494e-02],\n",
       "        [ 1.84552491e-01,  1.57315508e-01, -1.55761942e-01,\n",
       "         -4.65817302e-02, -6.03327937e-02,  1.39931858e-01,\n",
       "          2.32659236e-01, -4.77050334e-01,  1.11994082e-02,\n",
       "         -1.55832708e-01,  2.15406835e-01,  1.32568628e-01,\n",
       "          7.59559870e-02, -1.60586368e-02, -1.31643176e-01,\n",
       "          2.39364862e-01, -1.17933750e-01,  6.63185343e-02,\n",
       "          1.35301799e-01,  1.42984182e-01, -8.04672092e-02,\n",
       "          8.16541016e-02, -3.39383027e-03,  8.23527575e-03,\n",
       "          2.24085271e-01, -1.49166256e-01,  1.19113952e-01,\n",
       "          1.88067570e-01, -2.39224851e-01,  1.62939936e-01,\n",
       "          1.98270783e-01, -1.41900197e-01, -1.80492867e-02,\n",
       "          1.66278873e-02, -1.40593365e-01, -2.86746979e-01,\n",
       "         -1.30203366e-02,  2.54306756e-02,  1.19973272e-01,\n",
       "         -2.36499295e-01,  1.88750371e-01,  7.82753453e-02,\n",
       "          9.19923186e-04,  2.10280523e-01,  3.36255342e-01,\n",
       "          1.25509858e-01, -2.28995472e-01, -1.48597866e-01,\n",
       "         -7.01451063e-01,  7.69494474e-03, -3.77083644e-02,\n",
       "          1.31669611e-01, -2.47135460e-01, -2.49604419e-01,\n",
       "         -1.00388370e-01,  2.39681248e-02,  3.65932584e-02,\n",
       "         -1.94190860e-01, -1.70325682e-01,  4.16385457e-02,\n",
       "         -5.48451781e-01,  1.26777947e-01,  2.35264122e-01,\n",
       "          9.30058658e-02],\n",
       "        [ 2.50997186e-01,  2.03260958e-01, -2.86743208e-03,\n",
       "          1.95547447e-01,  5.09909689e-01, -6.71453774e-02,\n",
       "          4.74261828e-02,  4.26263064e-01, -2.04298407e-01,\n",
       "          1.65245041e-01, -2.27872077e-02,  9.37243104e-02,\n",
       "          9.75297987e-02, -1.04825407e-01,  2.07686260e-01,\n",
       "         -2.24474683e-01, -3.26270759e-01,  7.75606707e-02,\n",
       "         -1.36432797e-03,  2.64441371e-01,  2.84072191e-01,\n",
       "         -1.81494340e-01, -6.24279678e-03, -1.57794319e-02,\n",
       "          1.93668395e-01,  3.00105393e-01, -2.93470677e-02,\n",
       "         -9.59593579e-02,  1.62493482e-01, -1.98781997e-01,\n",
       "         -6.95001930e-02,  2.29043067e-02, -5.73300645e-02,\n",
       "         -1.23926893e-01,  1.06787175e-01, -2.50650257e-01,\n",
       "         -1.62593931e-01, -1.48878306e-01, -3.98835205e-02,\n",
       "         -2.02196138e-03, -1.36019468e-01, -3.07493746e-01,\n",
       "         -6.72535077e-02,  2.63933353e-02, -3.36022526e-01,\n",
       "          3.88051122e-02, -1.83791608e-01, -3.03986277e-02,\n",
       "          4.90026809e-02, -3.28672640e-02, -1.64406255e-01,\n",
       "          1.63529459e-02, -3.62931073e-01, -2.53219515e-01,\n",
       "         -1.39499933e-01,  2.19109833e-01,  2.20087186e-01,\n",
       "          2.10679308e-01,  3.55581529e-02,  2.10100204e-01,\n",
       "          9.27184895e-02, -2.12658420e-01, -2.24368423e-01,\n",
       "          1.13347866e-01],\n",
       "        [ 3.63901675e-01,  2.52467632e-01,  1.12732291e-01,\n",
       "          4.24046308e-01,  2.45663166e-01, -2.57167488e-01,\n",
       "         -3.63662124e-01, -4.48879749e-01,  5.57416007e-02,\n",
       "          1.00715384e-01, -8.06014761e-02,  1.23522796e-01,\n",
       "          2.64928877e-01,  1.65416971e-01,  8.91204327e-02,\n",
       "          1.86717182e-01, -2.42583066e-01, -2.78894175e-02,\n",
       "         -3.28404337e-01,  4.32751894e-01,  2.29101703e-01,\n",
       "         -1.72786266e-01,  1.64774016e-01, -3.81726950e-01,\n",
       "         -1.22764260e-01, -2.20048085e-01, -7.22069293e-02,\n",
       "         -6.01798892e-02,  3.23628604e-01, -2.01656744e-02,\n",
       "         -1.00806944e-01,  3.61218303e-01,  1.08721137e-01,\n",
       "         -1.60466328e-01, -1.99652892e-02, -1.26698211e-01,\n",
       "         -3.22466254e-01,  2.92205930e-01,  1.04464926e-01,\n",
       "          6.13314100e-02,  1.05697848e-01,  1.97545469e-01,\n",
       "          8.08931366e-02, -1.36486366e-01, -4.33885753e-01,\n",
       "         -1.82645842e-01, -5.35949804e-02,  9.31907445e-02,\n",
       "          8.87009799e-02, -3.89502458e-02,  1.12126432e-01,\n",
       "         -2.25051731e-01, -4.32768404e-01, -1.19363122e-01,\n",
       "          2.16412440e-01, -3.07633523e-02, -1.19015567e-01,\n",
       "          6.05225936e-02, -3.77369940e-01, -7.39610717e-02,\n",
       "         -2.26602107e-01, -1.30909905e-01,  6.01258390e-02,\n",
       "          2.12497404e-03],\n",
       "        [ 2.18554348e-01, -3.76747027e-02,  5.21541312e-02,\n",
       "          2.39909291e-01,  2.22836956e-01,  8.72136578e-02,\n",
       "         -3.63849774e-02, -3.88605058e-01, -2.20327135e-02,\n",
       "         -2.46492513e-02, -1.31992735e-02, -1.96501121e-01,\n",
       "         -3.84685129e-01, -8.71006493e-03, -1.38957039e-01,\n",
       "         -4.40250218e-01, -2.33413547e-01, -2.11527683e-02,\n",
       "         -3.16640496e-01, -3.89990687e-01,  2.47900024e-01,\n",
       "         -1.66665524e-01, -9.59255025e-02, -3.97178859e-01,\n",
       "         -2.75695235e-01,  4.35704499e-01,  5.81791885e-02,\n",
       "          1.04384460e-01,  1.17497578e-01,  6.54834062e-02,\n",
       "         -4.21197355e-01,  3.08147907e-01, -7.58568347e-02,\n",
       "          3.62860918e-01,  6.24333462e-03, -2.46955708e-01,\n",
       "         -3.98926765e-01,  2.41645843e-01, -1.00142159e-01,\n",
       "         -2.03134143e-03, -1.14643410e-01,  2.72917867e-01,\n",
       "          6.01249188e-03,  5.67320958e-02,  1.33305951e-03,\n",
       "          2.96780437e-01,  2.66318887e-01, -3.90444174e-02,\n",
       "         -4.94209975e-02,  3.81135270e-02, -1.07192155e-03,\n",
       "          4.10967171e-02, -2.71259863e-02, -1.47901759e-01,\n",
       "          1.45325419e-02, -1.00174509e-01, -1.15538001e-01,\n",
       "         -2.56438136e-01, -3.27156037e-01, -3.56777385e-02,\n",
       "         -4.62548494e-01,  3.00635397e-01,  2.68922359e-01,\n",
       "         -6.64835796e-02]], dtype=float32),\n",
       " array([-5.37921131e-01, -1.71787247e-01,  7.69440876e-03, -5.92215657e-01,\n",
       "        -6.85813129e-01, -1.11393116e-01,  6.08046167e-02,  3.70493501e-01,\n",
       "        -3.89646215e-04,  3.28297424e-03, -1.71538035e-03,  2.90206890e-03,\n",
       "         1.47017762e-01,  4.25464194e-03,  1.78616866e-03,  2.59439319e-01,\n",
       "         1.83833897e-01,  6.03416283e-03,  1.65215448e-01,  2.43424550e-01,\n",
       "        -5.33775873e-02,  2.11110041e-01,  4.94746119e-03,  4.98908073e-01,\n",
       "        -2.20587826e-03, -1.21876739e-01,  4.54940880e-03, -1.36671914e-03,\n",
       "        -1.21201754e-01, -2.71108374e-03,  6.80617541e-02, -2.53389161e-02,\n",
       "        -2.18562875e-03, -8.86986405e-02,  5.06907934e-03, -3.53169620e-01,\n",
       "         2.20548004e-01, -1.26274601e-01,  3.92058911e-03, -2.49841390e-03,\n",
       "        -4.09605913e-03,  5.63721452e-03,  1.54230185e-02, -2.83833896e-03,\n",
       "        -1.54916868e-01,  3.47930603e-02,  4.69306717e-04,  7.41763273e-04,\n",
       "         2.82241940e-01, -1.97504181e-02,  4.07020125e-04, -2.97537120e-03,\n",
       "         4.29070681e-01,  7.69915134e-02,  7.06914254e-03, -2.62772269e-03,\n",
       "         1.51219981e-04, -3.68551388e-02,  5.68573177e-01,  3.72988661e-03,\n",
       "         6.27560854e-01, -2.03354180e-01, -7.25458413e-02,  1.25539107e-02],\n",
       "       dtype=float32),\n",
       " array([[-1.37431607e-01],\n",
       "        [-9.43598598e-02],\n",
       "        [ 3.68348090e-03],\n",
       "        [-7.36354887e-02],\n",
       "        [-1.25909716e-01],\n",
       "        [ 1.27037033e-01],\n",
       "        [-1.05909534e-01],\n",
       "        [-1.65905371e-01],\n",
       "        [-2.01636140e-04],\n",
       "        [ 2.22344045e-03],\n",
       "        [-2.21528299e-03],\n",
       "        [-1.89663988e-05],\n",
       "        [-2.57898539e-01],\n",
       "        [ 2.51384894e-03],\n",
       "        [ 1.04181736e-03],\n",
       "        [-1.80013001e-01],\n",
       "        [-2.83125728e-01],\n",
       "        [ 1.68471038e-03],\n",
       "        [-2.32658789e-01],\n",
       "        [-2.61787891e-01],\n",
       "        [ 1.39109567e-01],\n",
       "        [-1.88512743e-01],\n",
       "        [ 2.26753904e-03],\n",
       "        [ 5.49438819e-02],\n",
       "        [-3.21484660e-03],\n",
       "        [ 3.02778155e-01],\n",
       "        [-2.07422185e-04],\n",
       "        [ 4.69243678e-05],\n",
       "        [ 1.50399044e-01],\n",
       "        [ 3.03866458e-04],\n",
       "        [-7.33342841e-02],\n",
       "        [ 1.23426028e-01],\n",
       "        [-4.13878413e-04],\n",
       "        [ 1.42407626e-01],\n",
       "        [ 2.95769260e-03],\n",
       "        [ 8.92148688e-02],\n",
       "        [-3.10728222e-01],\n",
       "        [ 2.54923105e-01],\n",
       "        [-1.83843891e-04],\n",
       "        [-7.51246931e-04],\n",
       "        [-2.03597685e-03],\n",
       "        [ 2.74281041e-03],\n",
       "        [ 6.36133773e-04],\n",
       "        [-1.98388216e-03],\n",
       "        [ 1.70837656e-01],\n",
       "        [ 9.28280726e-02],\n",
       "        [ 3.60573456e-03],\n",
       "        [ 7.06349558e-04],\n",
       "        [-1.20605089e-01],\n",
       "        [ 7.62453477e-04],\n",
       "        [ 1.26044592e-03],\n",
       "        [-2.63399212e-03],\n",
       "        [ 5.38971014e-02],\n",
       "        [-1.35174021e-01],\n",
       "        [ 2.41983496e-03],\n",
       "        [-1.66232712e-04],\n",
       "        [-6.00574189e-04],\n",
       "        [-2.99276337e-02],\n",
       "        [ 2.07428277e-01],\n",
       "        [ 2.59151193e-03],\n",
       "        [-1.23640679e-01],\n",
       "        [ 2.52648115e-01],\n",
       "        [ 6.90623373e-02],\n",
       "        [ 7.08570355e-04]], dtype=float32),\n",
       " array([0.4088417], dtype=float32)]"
      ]
     },
     "execution_count": 194,
     "metadata": {},
     "output_type": "execute_result"
    }
   ],
   "source": [
    "weights = model.get_weights()\n",
    "## dai i pesi della NN a lyapunov -> coefficiente di lyap \n",
    "weights"
   ]
  },
  {
   "cell_type": "code",
   "execution_count": 195,
   "metadata": {},
   "outputs": [
    {
     "ename": "NameError",
     "evalue": "name 'alpha' is not defined",
     "output_type": "error",
     "traceback": [
      "\u001b[1;31m---------------------------------------------------------------------------\u001b[0m",
      "\u001b[1;31mNameError\u001b[0m                                 Traceback (most recent call last)",
      "\u001b[1;32m<ipython-input-195-571db79353b5>\u001b[0m in \u001b[0;36m<module>\u001b[1;34m\u001b[0m\n\u001b[1;32m----> 1\u001b[1;33m \u001b[0mLyapunov\u001b[0m\u001b[1;33m(\u001b[0m\u001b[0malpha\u001b[0m\u001b[1;33m,\u001b[0m\u001b[0mbeta\u001b[0m\u001b[1;33m,\u001b[0m\u001b[0mx\u001b[0m\u001b[1;33m,\u001b[0m\u001b[0mL\u001b[0m\u001b[1;33m,\u001b[0m\u001b[0mm\u001b[0m\u001b[1;33m,\u001b[0m\u001b[0mq\u001b[0m\u001b[1;33m,\u001b[0m\u001b[0mT\u001b[0m\u001b[1;33m)\u001b[0m\u001b[1;33m\u001b[0m\u001b[1;33m\u001b[0m\u001b[0m\n\u001b[0m",
      "\u001b[1;31mNameError\u001b[0m: name 'alpha' is not defined"
     ]
    }
   ],
   "source": [
    "weights = model.get_weights()\n",
    "weights = [model.layers[1].get_weights()[1], model.layers[0].get_weights()[0]]\n",
    "model.layers[1].get_weights()[0]"
   ]
  },
  {
   "cell_type": "code",
   "execution_count": null,
   "metadata": {},
   "outputs": [],
   "source": [
    "T=1500\n",
    "x=new_y[0:]/1000\n",
    "a=model.layers[1].get_weights()[0]\n",
    "b=model.layers[0].get_weights()[0]\n",
    "bi=model.layers[0].get_weights()[1]\n",
    "l=Lyapunov (a,b,bi,x,L,m,q,T)\n",
    "print(l)"
   ]
  },
  {
   "cell_type": "code",
   "execution_count": null,
   "metadata": {},
   "outputs": [],
   "source": []
  }
 ],
 "metadata": {
  "kernelspec": {
   "display_name": "Python 3",
   "language": "python",
   "name": "python3"
  },
  "language_info": {
   "codemirror_mode": {
    "name": "ipython",
    "version": 3
   },
   "file_extension": ".py",
   "mimetype": "text/x-python",
   "name": "python",
   "nbconvert_exporter": "python",
   "pygments_lexer": "ipython3",
   "version": "3.7.6"
  }
 },
 "nbformat": 4,
 "nbformat_minor": 4
}
