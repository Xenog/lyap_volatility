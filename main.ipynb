{
 "cells": [
  {
   "cell_type": "code",
   "execution_count": 1,
   "metadata": {},
   "outputs": [],
   "source": [
    "import datetime as dt\n",
    "import os\n",
    "import pandas as pd\n",
    "import pickle\n",
    "import matplotlib.pyplot as plt\n",
    "import numpy as np\n",
    "import tensorflow as tf\n",
    "from pandas_datareader import data as pdr\n",
    "from tensorflow.keras.models import Sequential\n",
    "from tensorflow.keras.layers import Dense\n",
    "from sklearn.preprocessing import StandardScaler\n",
    "from Lyapunov import *"
   ]
  },
  {
   "cell_type": "code",
   "execution_count": 2,
   "metadata": {
    "scrolled": true
   },
   "outputs": [
    {
     "data": {
      "text/html": [
       "<div>\n",
       "<style scoped>\n",
       "    .dataframe tbody tr th:only-of-type {\n",
       "        vertical-align: middle;\n",
       "    }\n",
       "\n",
       "    .dataframe tbody tr th {\n",
       "        vertical-align: top;\n",
       "    }\n",
       "\n",
       "    .dataframe thead th {\n",
       "        text-align: right;\n",
       "    }\n",
       "</style>\n",
       "<table border=\"1\" class=\"dataframe\">\n",
       "  <thead>\n",
       "    <tr style=\"text-align: right;\">\n",
       "      <th></th>\n",
       "      <th>Date</th>\n",
       "      <th>Open</th>\n",
       "      <th>High</th>\n",
       "      <th>Low</th>\n",
       "      <th>Close</th>\n",
       "      <th>Adj Close</th>\n",
       "      <th>Volume</th>\n",
       "    </tr>\n",
       "  </thead>\n",
       "  <tbody>\n",
       "    <tr>\n",
       "      <th>0</th>\n",
       "      <td>2000-01-04</td>\n",
       "      <td>24.940001</td>\n",
       "      <td>27.180000</td>\n",
       "      <td>24.799999</td>\n",
       "      <td>27.010000</td>\n",
       "      <td>27.010000</td>\n",
       "      <td>0</td>\n",
       "    </tr>\n",
       "    <tr>\n",
       "      <th>1</th>\n",
       "      <td>2000-01-05</td>\n",
       "      <td>27.980000</td>\n",
       "      <td>29.000000</td>\n",
       "      <td>25.850000</td>\n",
       "      <td>26.410000</td>\n",
       "      <td>26.410000</td>\n",
       "      <td>0</td>\n",
       "    </tr>\n",
       "    <tr>\n",
       "      <th>2</th>\n",
       "      <td>2000-01-06</td>\n",
       "      <td>26.680000</td>\n",
       "      <td>26.709999</td>\n",
       "      <td>24.700001</td>\n",
       "      <td>25.730000</td>\n",
       "      <td>25.730000</td>\n",
       "      <td>0</td>\n",
       "    </tr>\n",
       "    <tr>\n",
       "      <th>3</th>\n",
       "      <td>2000-01-07</td>\n",
       "      <td>25.139999</td>\n",
       "      <td>25.170000</td>\n",
       "      <td>21.719999</td>\n",
       "      <td>21.719999</td>\n",
       "      <td>21.719999</td>\n",
       "      <td>0</td>\n",
       "    </tr>\n",
       "    <tr>\n",
       "      <th>4</th>\n",
       "      <td>2000-01-10</td>\n",
       "      <td>21.889999</td>\n",
       "      <td>22.490000</td>\n",
       "      <td>21.360001</td>\n",
       "      <td>21.709999</td>\n",
       "      <td>21.709999</td>\n",
       "      <td>0</td>\n",
       "    </tr>\n",
       "    <tr>\n",
       "      <th>...</th>\n",
       "      <td>...</td>\n",
       "      <td>...</td>\n",
       "      <td>...</td>\n",
       "      <td>...</td>\n",
       "      <td>...</td>\n",
       "      <td>...</td>\n",
       "      <td>...</td>\n",
       "    </tr>\n",
       "    <tr>\n",
       "      <th>4772</th>\n",
       "      <td>2018-12-21</td>\n",
       "      <td>28.240000</td>\n",
       "      <td>31.350000</td>\n",
       "      <td>25.709999</td>\n",
       "      <td>30.110001</td>\n",
       "      <td>30.110001</td>\n",
       "      <td>0</td>\n",
       "    </tr>\n",
       "    <tr>\n",
       "      <th>4773</th>\n",
       "      <td>2018-12-24</td>\n",
       "      <td>29.290001</td>\n",
       "      <td>36.099998</td>\n",
       "      <td>29.160000</td>\n",
       "      <td>36.070000</td>\n",
       "      <td>36.070000</td>\n",
       "      <td>0</td>\n",
       "    </tr>\n",
       "    <tr>\n",
       "      <th>4774</th>\n",
       "      <td>2018-12-26</td>\n",
       "      <td>35.500000</td>\n",
       "      <td>36.200001</td>\n",
       "      <td>29.590000</td>\n",
       "      <td>30.410000</td>\n",
       "      <td>30.410000</td>\n",
       "      <td>0</td>\n",
       "    </tr>\n",
       "    <tr>\n",
       "      <th>4775</th>\n",
       "      <td>2018-12-27</td>\n",
       "      <td>31.200001</td>\n",
       "      <td>33.799999</td>\n",
       "      <td>29.660000</td>\n",
       "      <td>29.959999</td>\n",
       "      <td>29.959999</td>\n",
       "      <td>0</td>\n",
       "    </tr>\n",
       "    <tr>\n",
       "      <th>4776</th>\n",
       "      <td>2018-12-28</td>\n",
       "      <td>29.969999</td>\n",
       "      <td>31.049999</td>\n",
       "      <td>27.430000</td>\n",
       "      <td>28.340000</td>\n",
       "      <td>28.340000</td>\n",
       "      <td>0</td>\n",
       "    </tr>\n",
       "  </tbody>\n",
       "</table>\n",
       "<p>4777 rows × 7 columns</p>\n",
       "</div>"
      ],
      "text/plain": [
       "            Date       Open       High        Low      Close  Adj Close  \\\n",
       "0     2000-01-04  24.940001  27.180000  24.799999  27.010000  27.010000   \n",
       "1     2000-01-05  27.980000  29.000000  25.850000  26.410000  26.410000   \n",
       "2     2000-01-06  26.680000  26.709999  24.700001  25.730000  25.730000   \n",
       "3     2000-01-07  25.139999  25.170000  21.719999  21.719999  21.719999   \n",
       "4     2000-01-10  21.889999  22.490000  21.360001  21.709999  21.709999   \n",
       "...          ...        ...        ...        ...        ...        ...   \n",
       "4772  2018-12-21  28.240000  31.350000  25.709999  30.110001  30.110001   \n",
       "4773  2018-12-24  29.290001  36.099998  29.160000  36.070000  36.070000   \n",
       "4774  2018-12-26  35.500000  36.200001  29.590000  30.410000  30.410000   \n",
       "4775  2018-12-27  31.200001  33.799999  29.660000  29.959999  29.959999   \n",
       "4776  2018-12-28  29.969999  31.049999  27.430000  28.340000  28.340000   \n",
       "\n",
       "      Volume  \n",
       "0          0  \n",
       "1          0  \n",
       "2          0  \n",
       "3          0  \n",
       "4          0  \n",
       "...      ...  \n",
       "4772       0  \n",
       "4773       0  \n",
       "4774       0  \n",
       "4775       0  \n",
       "4776       0  \n",
       "\n",
       "[4777 rows x 7 columns]"
      ]
     },
     "execution_count": 2,
     "metadata": {},
     "output_type": "execute_result"
    }
   ],
   "source": [
    "df = pd.read_csv('VIX.csv')\n",
    "df.index = np.arange(len(df))\n",
    "df"
   ]
  },
  {
   "cell_type": "code",
   "execution_count": 3,
   "metadata": {
    "scrolled": true
   },
   "outputs": [
    {
     "data": {
      "text/plain": [
       "[<matplotlib.lines.Line2D at 0x1257335b160>]"
      ]
     },
     "execution_count": 3,
     "metadata": {},
     "output_type": "execute_result"
    },
    {
     "data": {
      "image/png": "[encoded data removed]",
      "text/plain": [
       "<Figure size 432x288 with 1 Axes>"
      ]
     },
     "metadata": {
      "needs_background": "light"
     },
     "output_type": "display_data"
    }
   ],
   "source": [
    "close = df.Close\n",
    "plt.plot(close)"
   ]
  },
  {
   "cell_type": "code",
   "execution_count": 4,
   "metadata": {},
   "outputs": [],
   "source": [
    "# Dimensionality parameters\n",
    "L = 1   # step granularity\n",
    "m = 10  # window size\n",
    "q = 64  # number of neurons"
   ]
  },
  {
   "cell_type": "code",
   "execution_count": 5,
   "metadata": {},
   "outputs": [],
   "source": [
    "def sliding_window(df, m, L): \n",
    "    slid_w = []\n",
    "    targets = []\n",
    "    for i,row in df.iterrows():\n",
    "        if i + m*L < len(df.index):\n",
    "            slid_w.append(list(df.loc[i:i+L*m-1:L,'Close']))\n",
    "            targets.append(df.loc[i+m*L,'Close'])\n",
    "    data = pd.DataFrame(slid_w)\n",
    "    return data,targets\n",
    "\n",
    "X, y = sliding_window(df, m, L)\n",
    "y = pd.DataFrame(y, columns = ['target'])"
   ]
  },
  {
   "cell_type": "code",
   "execution_count": 6,
   "metadata": {},
   "outputs": [],
   "source": [
    "scaler = StandardScaler()\n",
    "scaler.fit(pd.concat([X, y]))\n",
    "X = pd.DataFrame(scaler.transform(pd.concat([X, y], axis = 1)))"
   ]
  },
  {
   "cell_type": "code",
   "execution_count": 7,
   "metadata": {},
   "outputs": [],
   "source": [
    "y = X.loc[:,10]\n",
    "X = X.loc[:,:9]"
   ]
  },
  {
   "cell_type": "code",
   "execution_count": 8,
   "metadata": {},
   "outputs": [
    {
     "name": "stdout",
     "output_type": "stream",
     "text": [
      "149/149 [==============================] - 0s 547us/step - loss: 0.0307 - mse: 0.0307 - mae: 0.1130\n"
     ]
    },
    {
     "data": {
      "text/plain": [
       "[0.03071589767932892, 0.03071589767932892, 0.11303599178791046]"
      ]
     },
     "execution_count": 8,
     "metadata": {},
     "output_type": "execute_result"
    }
   ],
   "source": [
    "model = Sequential([\n",
    "  Dense(q, activation='tanh', input_shape=(m,)),  \n",
    "  Dense(1),\n",
    "])\n",
    "\n",
    "model.compile(\n",
    "  optimizer='adam',\n",
    "  loss='mean_squared_error',\n",
    "  metrics=['mse','mae'],\n",
    ")\n",
    "\n",
    "model.fit(X, np.asarray(y), epochs=1000, verbose = False, batch_size = 16)\n",
    "model.evaluate(X, np.asarray(y))"
   ]
  },
  {
   "cell_type": "code",
   "execution_count": 9,
   "metadata": {},
   "outputs": [],
   "source": [
    "y_predict = pd.DataFrame(model.predict(X).reshape(1,-1)).T\n",
    "y_predict.columns = ['target']\n",
    "new_X = pd.concat([X, y_predict], axis = 1)\n",
    "new_X = pd.DataFrame(scaler.inverse_transform(new_X))\n",
    "new_y = new_X[m]"
   ]
  },
  {
   "cell_type": "code",
   "execution_count": 10,
   "metadata": {},
   "outputs": [],
   "source": [
    "new_close = close[m:]\n",
    "new_close.index = range(len(new_y))"
   ]
  },
  {
   "cell_type": "code",
   "execution_count": 23,
   "metadata": {},
   "outputs": [
    {
     "data": {
      "text/plain": [
       "[<matplotlib.lines.Line2D at 0x1257dd22430>]"
      ]
     },
     "execution_count": 23,
     "metadata": {},
     "output_type": "execute_result"
    },
    {
     "data": {
      "image/png": "[encoded data removed]",
      "text/plain": [
       "<Figure size 432x288 with 1 Axes>"
      ]
     },
     "metadata": {
      "needs_background": "light"
     },
     "output_type": "display_data"
    }
   ],
   "source": [
    "plt.plot(new_y[0:], c = 'red')\n",
    "plt.plot(new_close[0:], c = 'black')"
   ]
  },
  {
   "cell_type": "code",
   "execution_count": 29,
   "metadata": {},
   "outputs": [
    {
     "data": {
      "text/plain": [
       "array([ 8.4329722e-04, -3.4486733e-03,  4.9486579e-03, -9.1647708e-01,\n",
       "        1.2025272e-03, -9.5918272e-03, -7.2327202e-05,  7.7443731e-01,\n",
       "       -2.0314562e-03,  3.0420891e-03, -2.8774985e-03, -1.8596315e-01,\n",
       "       -1.5743030e-02, -2.5368743e-03,  5.6604831e-04,  3.1970043e-03,\n",
       "       -1.0366033e+00,  3.3926359e-01, -1.0760486e-03,  2.6481909e-01,\n",
       "       -4.0376685e-03, -8.2571432e-03,  7.1565157e-01, -5.7174318e-04,\n",
       "       -2.8780475e+00, -2.3138069e-03,  1.7463197e-03,  5.3355715e-04,\n",
       "        1.1011310e+00, -4.7213919e-03,  4.1657463e-03, -1.6917104e-03,\n",
       "        3.4899208e-01,  2.4487424e-01,  8.8605547e-01,  7.2073148e-05,\n",
       "       -8.7346841e-04, -1.5090171e-03,  2.5184938e-01,  6.7769974e-01,\n",
       "        8.2954299e-01, -3.2999008e-03,  2.1133758e-02,  1.0952968e-02,\n",
       "       -2.8476089e-01,  3.1511458e-03, -4.1271341e-03,  3.1355461e-03,\n",
       "        6.6328532e-01, -3.1433194e-03, -2.0871267e-03,  5.6682301e-01,\n",
       "       -1.2956587e+00,  7.3884100e-01, -1.9174782e+00, -7.1888733e-01,\n",
       "       -7.2088296e-04,  5.3420295e-03, -5.7478487e-03, -3.2901156e-03,\n",
       "        1.1234174e-03,  7.0811856e-01, -1.6100610e-03,  7.4337602e-01],\n",
       "      dtype=float32)"
      ]
     },
     "execution_count": 29,
     "metadata": {},
     "output_type": "execute_result"
    }
   ],
   "source": [
    "weights = model.get_weights()\n",
    "weights = [model.layers[1].get_weights()[1], model.layers[0].get_weights()[0]]\n",
    "model.layers[0].get_weights()[1]"
   ]
  },
  {
   "cell_type": "code",
   "execution_count": 22,
   "metadata": {
    "scrolled": true
   },
   "outputs": [
    {
     "name": "stdout",
     "output_type": "stream",
     "text": [
      "(0.002173145738287338+0j)\n"
     ]
    }
   ],
   "source": [
    "T=500\n",
    "a=model.layers[1].get_weights()[0]\n",
    "b=model.layers[0].get_weights()[0]\n",
    "bi=model.layers[0].get_weights()[1]\n",
    "l=Lyapunov (a,b,bi,y_predict,L,m,q,T)\n",
    "print(l)"
   ]
  },
  {
   "cell_type": "code",
   "execution_count": 15,
   "metadata": {},
   "outputs": [
    {
     "data": {
      "text/html": [
       "<div>\n",
       "<style scoped>\n",
       "    .dataframe tbody tr th:only-of-type {\n",
       "        vertical-align: middle;\n",
       "    }\n",
       "\n",
       "    .dataframe tbody tr th {\n",
       "        vertical-align: top;\n",
       "    }\n",
       "\n",
       "    .dataframe thead th {\n",
       "        text-align: right;\n",
       "    }\n",
       "</style>\n",
       "<table border=\"1\" class=\"dataframe\">\n",
       "  <thead>\n",
       "    <tr style=\"text-align: right;\">\n",
       "      <th></th>\n",
       "      <th>target</th>\n",
       "    </tr>\n",
       "  </thead>\n",
       "  <tbody>\n",
       "    <tr>\n",
       "      <th>0</th>\n",
       "      <td>0.120551</td>\n",
       "    </tr>\n",
       "    <tr>\n",
       "      <th>1</th>\n",
       "      <td>0.234588</td>\n",
       "    </tr>\n",
       "    <tr>\n",
       "      <th>2</th>\n",
       "      <td>0.223721</td>\n",
       "    </tr>\n",
       "    <tr>\n",
       "      <th>3</th>\n",
       "      <td>0.163588</td>\n",
       "    </tr>\n",
       "    <tr>\n",
       "      <th>4</th>\n",
       "      <td>0.500836</td>\n",
       "    </tr>\n",
       "    <tr>\n",
       "      <th>...</th>\n",
       "      <td>...</td>\n",
       "    </tr>\n",
       "    <tr>\n",
       "      <th>4762</th>\n",
       "      <td>0.951041</td>\n",
       "    </tr>\n",
       "    <tr>\n",
       "      <th>4763</th>\n",
       "      <td>1.108358</td>\n",
       "    </tr>\n",
       "    <tr>\n",
       "      <th>4764</th>\n",
       "      <td>1.588523</td>\n",
       "    </tr>\n",
       "    <tr>\n",
       "      <th>4765</th>\n",
       "      <td>1.479014</td>\n",
       "    </tr>\n",
       "    <tr>\n",
       "      <th>4766</th>\n",
       "      <td>1.128703</td>\n",
       "    </tr>\n",
       "  </tbody>\n",
       "</table>\n",
       "<p>4767 rows × 1 columns</p>\n",
       "</div>"
      ],
      "text/plain": [
       "        target\n",
       "0     0.120551\n",
       "1     0.234588\n",
       "2     0.223721\n",
       "3     0.163588\n",
       "4     0.500836\n",
       "...        ...\n",
       "4762  0.951041\n",
       "4763  1.108358\n",
       "4764  1.588523\n",
       "4765  1.479014\n",
       "4766  1.128703\n",
       "\n",
       "[4767 rows x 1 columns]"
      ]
     },
     "execution_count": 15,
     "metadata": {},
     "output_type": "execute_result"
    }
   ],
   "source": [
    "y_predict"
   ]
  },
  {
   "cell_type": "code",
   "execution_count": null,
   "metadata": {},
   "outputs": [],
   "source": []
  }
 ],
 "metadata": {
  "kernelspec": {
   "display_name": "Python 3",
   "language": "python",
   "name": "python3"
  },
  "language_info": {
   "codemirror_mode": {
    "name": "ipython",
    "version": 3
   },
   "file_extension": ".py",
   "mimetype": "text/x-python",
   "name": "python",
   "nbconvert_exporter": "python",
   "pygments_lexer": "ipython3",
   "version": "3.8.6"
  }
 },
 "nbformat": 4,
 "nbformat_minor": 4
}
