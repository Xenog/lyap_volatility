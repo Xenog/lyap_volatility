{
 "cells": [
  {
   "cell_type": "code",
   "execution_count": 88,
   "metadata": {},
   "outputs": [],
   "source": [
    "import datetime as dt\n",
    "import os\n",
    "import pandas as pd\n",
    "import pickle\n",
    "import matplotlib.pyplot as plt\n",
    "import numpy as np\n",
    "import tensorflow as tf\n",
    "from pandas_datareader import data as pdr\n",
    "from tensorflow.keras.models import Sequential\n",
    "from tensorflow.keras.layers import Dense\n",
    "from sklearn.preprocessing import StandardScaler\n",
    "from lyap import *\n",
    "from Lyapunov import *"
   ]
  },
  {
   "cell_type": "code",
   "execution_count": 89,
   "metadata": {},
   "outputs": [
    {
     "data": {
      "text/plain": [
       "'The data are composed of eight daily major volatility indexes, mainly, the\\nVIX (S&P 500 volatility, U.S.), VSTOXX (STOXX 50 volatility, Eurozone),\\nJNIV (Nikkei 225 volatility, Japan), VFTSE (FTSE 100 volatility, U.K.),\\nVDAX (DAX 30 volatility, Germany), VCAC (CAC 40 volatility, France),\\nVAEX (AEX volatility, Netherlands), VSMI (SMI volatility, Switzerland),\\nfrom January 1, 2001 until December 15, 2016 collected from Datastream.\\nVolatility indexes (divided by 100) are the implied standard deviations of\\nOptions on the corresponding market indexes over the next 30 days.'"
      ]
     },
     "execution_count": 89,
     "metadata": {},
     "output_type": "execute_result"
    }
   ],
   "source": [
    "'''The data are composed of eight daily major volatility indexes, mainly, the\n",
    "VIX (S&P 500 volatility, U.S.), VSTOXX (STOXX 50 volatility, Eurozone),\n",
    "JNIV (Nikkei 225 volatility, Japan), VFTSE (FTSE 100 volatility, U.K.),\n",
    "VDAX (DAX 30 volatility, Germany), VCAC (CAC 40 volatility, France),\n",
    "VAEX (AEX volatility, Netherlands), VSMI (SMI volatility, Switzerland),\n",
    "from January 1, 2001 until December 15, 2016 collected from Datastream.\n",
    "Volatility indexes (divided by 100) are the implied standard deviations of\n",
    "Options on the corresponding market indexes over the next 30 days.'''"
   ]
  },
  {
   "cell_type": "code",
   "execution_count": 90,
   "metadata": {
    "scrolled": true
   },
   "outputs": [
    {
     "data": {
      "text/html": [
       "<div>\n",
       "<style scoped>\n",
       "    .dataframe tbody tr th:only-of-type {\n",
       "        vertical-align: middle;\n",
       "    }\n",
       "\n",
       "    .dataframe tbody tr th {\n",
       "        vertical-align: top;\n",
       "    }\n",
       "\n",
       "    .dataframe thead th {\n",
       "        text-align: right;\n",
       "    }\n",
       "</style>\n",
       "<table border=\"1\" class=\"dataframe\">\n",
       "  <thead>\n",
       "    <tr style=\"text-align: right;\">\n",
       "      <th></th>\n",
       "      <th>Date</th>\n",
       "      <th>Open</th>\n",
       "      <th>High</th>\n",
       "      <th>Low</th>\n",
       "      <th>Close</th>\n",
       "      <th>Adj Close</th>\n",
       "      <th>Volume</th>\n",
       "    </tr>\n",
       "  </thead>\n",
       "  <tbody>\n",
       "    <tr>\n",
       "      <th>0</th>\n",
       "      <td>2001-01-02</td>\n",
       "      <td>27.930000</td>\n",
       "      <td>30.400000</td>\n",
       "      <td>27.920000</td>\n",
       "      <td>29.990000</td>\n",
       "      <td>29.990000</td>\n",
       "      <td>0</td>\n",
       "    </tr>\n",
       "    <tr>\n",
       "      <th>1</th>\n",
       "      <td>2001-01-03</td>\n",
       "      <td>29.629999</td>\n",
       "      <td>29.959999</td>\n",
       "      <td>25.990000</td>\n",
       "      <td>26.600000</td>\n",
       "      <td>26.600000</td>\n",
       "      <td>0</td>\n",
       "    </tr>\n",
       "    <tr>\n",
       "      <th>2</th>\n",
       "      <td>2001-01-04</td>\n",
       "      <td>26.350000</td>\n",
       "      <td>27.190001</td>\n",
       "      <td>26.129999</td>\n",
       "      <td>26.969999</td>\n",
       "      <td>26.969999</td>\n",
       "      <td>0</td>\n",
       "    </tr>\n",
       "    <tr>\n",
       "      <th>3</th>\n",
       "      <td>2001-01-05</td>\n",
       "      <td>27.809999</td>\n",
       "      <td>29.040001</td>\n",
       "      <td>27.209999</td>\n",
       "      <td>28.670000</td>\n",
       "      <td>28.670000</td>\n",
       "      <td>0</td>\n",
       "    </tr>\n",
       "    <tr>\n",
       "      <th>4</th>\n",
       "      <td>2001-01-08</td>\n",
       "      <td>29.980000</td>\n",
       "      <td>30.799999</td>\n",
       "      <td>29.719999</td>\n",
       "      <td>29.840000</td>\n",
       "      <td>29.840000</td>\n",
       "      <td>0</td>\n",
       "    </tr>\n",
       "    <tr>\n",
       "      <th>...</th>\n",
       "      <td>...</td>\n",
       "      <td>...</td>\n",
       "      <td>...</td>\n",
       "      <td>...</td>\n",
       "      <td>...</td>\n",
       "      <td>...</td>\n",
       "      <td>...</td>\n",
       "    </tr>\n",
       "    <tr>\n",
       "      <th>4010</th>\n",
       "      <td>2016-12-09</td>\n",
       "      <td>12.590000</td>\n",
       "      <td>12.720000</td>\n",
       "      <td>11.670000</td>\n",
       "      <td>11.750000</td>\n",
       "      <td>11.750000</td>\n",
       "      <td>0</td>\n",
       "    </tr>\n",
       "    <tr>\n",
       "      <th>4011</th>\n",
       "      <td>2016-12-12</td>\n",
       "      <td>12.230000</td>\n",
       "      <td>12.780000</td>\n",
       "      <td>12.070000</td>\n",
       "      <td>12.640000</td>\n",
       "      <td>12.640000</td>\n",
       "      <td>0</td>\n",
       "    </tr>\n",
       "    <tr>\n",
       "      <th>4012</th>\n",
       "      <td>2016-12-13</td>\n",
       "      <td>12.460000</td>\n",
       "      <td>13.420000</td>\n",
       "      <td>12.340000</td>\n",
       "      <td>12.720000</td>\n",
       "      <td>12.720000</td>\n",
       "      <td>0</td>\n",
       "    </tr>\n",
       "    <tr>\n",
       "      <th>4013</th>\n",
       "      <td>2016-12-14</td>\n",
       "      <td>12.880000</td>\n",
       "      <td>13.390000</td>\n",
       "      <td>12.480000</td>\n",
       "      <td>13.190000</td>\n",
       "      <td>13.190000</td>\n",
       "      <td>0</td>\n",
       "    </tr>\n",
       "    <tr>\n",
       "      <th>4014</th>\n",
       "      <td>2016-12-15</td>\n",
       "      <td>13.070000</td>\n",
       "      <td>13.240000</td>\n",
       "      <td>12.460000</td>\n",
       "      <td>12.790000</td>\n",
       "      <td>12.790000</td>\n",
       "      <td>0</td>\n",
       "    </tr>\n",
       "  </tbody>\n",
       "</table>\n",
       "<p>4015 rows × 7 columns</p>\n",
       "</div>"
      ],
      "text/plain": [
       "            Date       Open       High        Low      Close  Adj Close  \\\n",
       "0     2001-01-02  27.930000  30.400000  27.920000  29.990000  29.990000   \n",
       "1     2001-01-03  29.629999  29.959999  25.990000  26.600000  26.600000   \n",
       "2     2001-01-04  26.350000  27.190001  26.129999  26.969999  26.969999   \n",
       "3     2001-01-05  27.809999  29.040001  27.209999  28.670000  28.670000   \n",
       "4     2001-01-08  29.980000  30.799999  29.719999  29.840000  29.840000   \n",
       "...          ...        ...        ...        ...        ...        ...   \n",
       "4010  2016-12-09  12.590000  12.720000  11.670000  11.750000  11.750000   \n",
       "4011  2016-12-12  12.230000  12.780000  12.070000  12.640000  12.640000   \n",
       "4012  2016-12-13  12.460000  13.420000  12.340000  12.720000  12.720000   \n",
       "4013  2016-12-14  12.880000  13.390000  12.480000  13.190000  13.190000   \n",
       "4014  2016-12-15  13.070000  13.240000  12.460000  12.790000  12.790000   \n",
       "\n",
       "      Volume  \n",
       "0          0  \n",
       "1          0  \n",
       "2          0  \n",
       "3          0  \n",
       "4          0  \n",
       "...      ...  \n",
       "4010       0  \n",
       "4011       0  \n",
       "4012       0  \n",
       "4013       0  \n",
       "4014       0  \n",
       "\n",
       "[4015 rows x 7 columns]"
      ]
     },
     "execution_count": 90,
     "metadata": {},
     "output_type": "execute_result"
    }
   ],
   "source": [
    "df = pd.read_csv('VIX.csv').loc[251:4265]\n",
    "df.index = np.arange(len(df))\n",
    "df"
   ]
  },
  {
   "cell_type": "code",
   "execution_count": 91,
   "metadata": {},
   "outputs": [],
   "source": [
    "#df['Ultimo'] = df['Ultimo'].str.replace(',','.')\n",
    "#df['Ultimo'] = list(map(float, df['Ultimo']))"
   ]
  },
  {
   "cell_type": "code",
   "execution_count": 92,
   "metadata": {},
   "outputs": [
    {
     "data": {
      "text/plain": [
       "[<matplotlib.lines.Line2D at 0x2a7cb10cfc8>]"
      ]
     },
     "execution_count": 92,
     "metadata": {},
     "output_type": "execute_result"
    },
    {
     "data": {
      "image/png": "[encoded data removed]",
      "text/plain": [
       "<Figure size 432x288 with 1 Axes>"
      ]
     },
     "metadata": {
      "needs_background": "light"
     },
     "output_type": "display_data"
    }
   ],
   "source": [
    "df['Close'] = df['Close']/100\n",
    "close = df['Close']\n",
    "plt.plot(close)"
   ]
  },
  {
   "cell_type": "code",
   "execution_count": 93,
   "metadata": {},
   "outputs": [
    {
     "data": {
      "text/html": [
       "<div>\n",
       "<style scoped>\n",
       "    .dataframe tbody tr th:only-of-type {\n",
       "        vertical-align: middle;\n",
       "    }\n",
       "\n",
       "    .dataframe tbody tr th {\n",
       "        vertical-align: top;\n",
       "    }\n",
       "\n",
       "    .dataframe thead th {\n",
       "        text-align: right;\n",
       "    }\n",
       "</style>\n",
       "<table border=\"1\" class=\"dataframe\">\n",
       "  <thead>\n",
       "    <tr style=\"text-align: right;\">\n",
       "      <th></th>\n",
       "      <th>Open</th>\n",
       "      <th>High</th>\n",
       "      <th>Low</th>\n",
       "      <th>Close</th>\n",
       "      <th>Adj Close</th>\n",
       "      <th>Volume</th>\n",
       "    </tr>\n",
       "  </thead>\n",
       "  <tbody>\n",
       "    <tr>\n",
       "      <th>count</th>\n",
       "      <td>4015.000000</td>\n",
       "      <td>4015.000000</td>\n",
       "      <td>4015.000000</td>\n",
       "      <td>4015.000000</td>\n",
       "      <td>4015.000000</td>\n",
       "      <td>4015.0</td>\n",
       "    </tr>\n",
       "    <tr>\n",
       "      <th>mean</th>\n",
       "      <td>20.361858</td>\n",
       "      <td>21.151357</td>\n",
       "      <td>19.517935</td>\n",
       "      <td>0.202263</td>\n",
       "      <td>20.226301</td>\n",
       "      <td>0.0</td>\n",
       "    </tr>\n",
       "    <tr>\n",
       "      <th>std</th>\n",
       "      <td>8.973546</td>\n",
       "      <td>9.471873</td>\n",
       "      <td>8.418720</td>\n",
       "      <td>0.089144</td>\n",
       "      <td>8.914352</td>\n",
       "      <td>0.0</td>\n",
       "    </tr>\n",
       "    <tr>\n",
       "      <th>min</th>\n",
       "      <td>9.680000</td>\n",
       "      <td>10.060000</td>\n",
       "      <td>9.390000</td>\n",
       "      <td>0.098900</td>\n",
       "      <td>9.890000</td>\n",
       "      <td>0.0</td>\n",
       "    </tr>\n",
       "    <tr>\n",
       "      <th>25%</th>\n",
       "      <td>14.045000</td>\n",
       "      <td>14.630000</td>\n",
       "      <td>13.570000</td>\n",
       "      <td>0.139800</td>\n",
       "      <td>13.980000</td>\n",
       "      <td>0.0</td>\n",
       "    </tr>\n",
       "    <tr>\n",
       "      <th>50%</th>\n",
       "      <td>17.900000</td>\n",
       "      <td>18.580000</td>\n",
       "      <td>17.139999</td>\n",
       "      <td>0.177900</td>\n",
       "      <td>17.790001</td>\n",
       "      <td>0.0</td>\n",
       "    </tr>\n",
       "    <tr>\n",
       "      <th>75%</th>\n",
       "      <td>23.695001</td>\n",
       "      <td>24.575000</td>\n",
       "      <td>22.765000</td>\n",
       "      <td>0.236350</td>\n",
       "      <td>23.635001</td>\n",
       "      <td>0.0</td>\n",
       "    </tr>\n",
       "    <tr>\n",
       "      <th>max</th>\n",
       "      <td>80.739998</td>\n",
       "      <td>89.529999</td>\n",
       "      <td>72.760002</td>\n",
       "      <td>0.808600</td>\n",
       "      <td>80.860001</td>\n",
       "      <td>0.0</td>\n",
       "    </tr>\n",
       "  </tbody>\n",
       "</table>\n",
       "</div>"
      ],
      "text/plain": [
       "              Open         High          Low        Close    Adj Close  Volume\n",
       "count  4015.000000  4015.000000  4015.000000  4015.000000  4015.000000  4015.0\n",
       "mean     20.361858    21.151357    19.517935     0.202263    20.226301     0.0\n",
       "std       8.973546     9.471873     8.418720     0.089144     8.914352     0.0\n",
       "min       9.680000    10.060000     9.390000     0.098900     9.890000     0.0\n",
       "25%      14.045000    14.630000    13.570000     0.139800    13.980000     0.0\n",
       "50%      17.900000    18.580000    17.139999     0.177900    17.790001     0.0\n",
       "75%      23.695001    24.575000    22.765000     0.236350    23.635001     0.0\n",
       "max      80.739998    89.529999    72.760002     0.808600    80.860001     0.0"
      ]
     },
     "execution_count": 93,
     "metadata": {},
     "output_type": "execute_result"
    }
   ],
   "source": [
    "df.describe()"
   ]
  },
  {
   "cell_type": "code",
   "execution_count": 94,
   "metadata": {},
   "outputs": [],
   "source": [
    "# Dimensionality parameters\n",
    "L = 1   # step granularity\n",
    "m = 4  # window size\n",
    "q = 2  # number of neurons"
   ]
  },
  {
   "cell_type": "code",
   "execution_count": 95,
   "metadata": {},
   "outputs": [],
   "source": [
    "def sliding_window(df, m, L): \n",
    "    slid_w = []\n",
    "    targets = []\n",
    "    for i,row in df.iterrows():\n",
    "        if i + m*L < len(df.index):\n",
    "            slid_w.append(list(df.loc[i:i+L*m-1:L,'Close']))\n",
    "            targets.append(df.loc[i+m*L,'Close'])\n",
    "    data = pd.DataFrame(slid_w)\n",
    "    return data,targets\n",
    "\n",
    "X, y = sliding_window(df, m, L)\n",
    "y = pd.DataFrame(y, columns = ['target'])"
   ]
  },
  {
   "cell_type": "code",
   "execution_count": 96,
   "metadata": {},
   "outputs": [],
   "source": [
    "scaler = StandardScaler()\n",
    "scaler.fit(pd.concat([X, y]))\n",
    "X = pd.DataFrame(scaler.transform(pd.concat([X, y], axis = 1)))"
   ]
  },
  {
   "cell_type": "code",
   "execution_count": 97,
   "metadata": {},
   "outputs": [],
   "source": [
    "y = X.loc[:,m]\n",
    "X = X.loc[:,:(m-1)]"
   ]
  },
  {
   "cell_type": "code",
   "execution_count": 98,
   "metadata": {},
   "outputs": [
    {
     "name": "stdout",
     "output_type": "stream",
     "text": [
      "4011/4011 [==============================] - 0s 51us/sample - loss: 0.0571 - mean_squared_error: 0.0571 - mean_absolute_error: 0.1383\n"
     ]
    },
    {
     "data": {
      "text/plain": [
       "[0.05707098841314243, 0.05707098, 0.13826136]"
      ]
     },
     "execution_count": 98,
     "metadata": {},
     "output_type": "execute_result"
    }
   ],
   "source": [
    "model = Sequential([\n",
    "  Dense(q, activation='tanh', input_shape=(m,)),\n",
    "  Dense(1),\n",
    "])\n",
    "\n",
    "model.compile(\n",
    "  optimizer='adam',\n",
    "  loss='mean_squared_error',\n",
    "  metrics=['mse','mae'],\n",
    ")\n",
    "\n",
    "model.fit(X, np.asarray(y), epochs=20, verbose = False, batch_size = 16)\n",
    "model.evaluate(X, np.asarray(y))"
   ]
  },
  {
   "cell_type": "code",
   "execution_count": 99,
   "metadata": {},
   "outputs": [],
   "source": [
    "y_predict = pd.DataFrame(model.predict(X).reshape(1,-1)).T\n",
    "y_predict.columns = ['target']\n",
    "new_X = pd.concat([X, y_predict], axis = 1)\n",
    "new_X = pd.DataFrame(scaler.inverse_transform(new_X))\n",
    "new_y = new_X[m]"
   ]
  },
  {
   "cell_type": "code",
   "execution_count": 100,
   "metadata": {},
   "outputs": [
    {
     "data": {
      "text/plain": [
       "0       0.291227\n",
       "1       0.300871\n",
       "2       0.277470\n",
       "3       0.264097\n",
       "4       0.255710\n",
       "          ...   \n",
       "4006    0.133722\n",
       "4007    0.127405\n",
       "4008    0.133272\n",
       "4009    0.134606\n",
       "4010    0.137026\n",
       "Name: 4, Length: 4011, dtype: float64"
      ]
     },
     "execution_count": 100,
     "metadata": {},
     "output_type": "execute_result"
    }
   ],
   "source": [
    "new_y"
   ]
  },
  {
   "cell_type": "code",
   "execution_count": 101,
   "metadata": {},
   "outputs": [],
   "source": [
    "new_close = close[m:]\n",
    "new_close.index = range(len(new_close))"
   ]
  },
  {
   "cell_type": "code",
   "execution_count": 102,
   "metadata": {},
   "outputs": [
    {
     "data": {
      "text/plain": [
       "[<matplotlib.lines.Line2D at 0x2a7cc3b2d08>]"
      ]
     },
     "execution_count": 102,
     "metadata": {},
     "output_type": "execute_result"
    },
    {
     "data": {
      "image/png": "[encoded data removed]",
      "text/plain": [
       "<Figure size 432x288 with 1 Axes>"
      ]
     },
     "metadata": {
      "needs_background": "light"
     },
     "output_type": "display_data"
    }
   ],
   "source": [
    "plt.plot(new_y[1010:1020],c = 'red')\n",
    "plt.plot(new_close[1010:1020], c = 'black')"
   ]
  },
  {
   "cell_type": "code",
   "execution_count": 103,
   "metadata": {},
   "outputs": [],
   "source": [
    "alpha_0 = model.layers[1].get_weights()[1]\n",
    "alpha_1 = model.layers[1].get_weights()[0]\n",
    "beta_0 = model.layers[0].get_weights()[1]\n",
    "beta_1 = np.asmatrix(model.layers[1].get_weights()[1])"
   ]
  },
  {
   "cell_type": "code",
   "execution_count": 132,
   "metadata": {},
   "outputs": [
    {
     "ename": "TypeError",
     "evalue": "float() argument must be a string or a number, not 'Tensor'",
     "output_type": "error",
     "traceback": [
      "\u001b[1;31m---------------------------------------------------------------------------\u001b[0m",
      "\u001b[1;31mTypeError\u001b[0m                                 Traceback (most recent call last)",
      "\u001b[1;32m<ipython-input-132-9068d5bddc52>\u001b[0m in \u001b[0;36m<module>\u001b[1;34m\u001b[0m\n\u001b[0;32m      3\u001b[0m \u001b[0mb\u001b[0m\u001b[1;33m=\u001b[0m\u001b[0mmodel\u001b[0m\u001b[1;33m.\u001b[0m\u001b[0mlayers\u001b[0m\u001b[1;33m[\u001b[0m\u001b[1;36m0\u001b[0m\u001b[1;33m]\u001b[0m\u001b[1;33m.\u001b[0m\u001b[0mget_weights\u001b[0m\u001b[1;33m(\u001b[0m\u001b[1;33m)\u001b[0m\u001b[1;33m[\u001b[0m\u001b[1;36m0\u001b[0m\u001b[1;33m]\u001b[0m\u001b[1;33m\u001b[0m\u001b[1;33m\u001b[0m\u001b[0m\n\u001b[0;32m      4\u001b[0m \u001b[0mbi\u001b[0m\u001b[1;33m=\u001b[0m\u001b[0mmodel\u001b[0m\u001b[1;33m.\u001b[0m\u001b[0mlayers\u001b[0m\u001b[1;33m[\u001b[0m\u001b[1;36m0\u001b[0m\u001b[1;33m]\u001b[0m\u001b[1;33m.\u001b[0m\u001b[0mget_weights\u001b[0m\u001b[1;33m(\u001b[0m\u001b[1;33m)\u001b[0m\u001b[1;33m[\u001b[0m\u001b[1;36m1\u001b[0m\u001b[1;33m]\u001b[0m\u001b[1;33m\u001b[0m\u001b[1;33m\u001b[0m\u001b[0m\n\u001b[1;32m----> 5\u001b[1;33m \u001b[0ml\u001b[0m\u001b[1;33m=\u001b[0m\u001b[0mJacobian\u001b[0m\u001b[1;33m(\u001b[0m\u001b[0ma\u001b[0m\u001b[1;33m,\u001b[0m \u001b[0mb\u001b[0m\u001b[1;33m,\u001b[0m \u001b[0mbi\u001b[0m\u001b[1;33m,\u001b[0m \u001b[0mclose\u001b[0m\u001b[1;33m,\u001b[0m\u001b[0mL\u001b[0m\u001b[1;33m,\u001b[0m\u001b[0mm\u001b[0m\u001b[1;33m,\u001b[0m\u001b[0mq\u001b[0m\u001b[1;33m,\u001b[0m\u001b[1;36m100\u001b[0m\u001b[1;33m)\u001b[0m\u001b[1;33m\u001b[0m\u001b[1;33m\u001b[0m\u001b[0m\n\u001b[0m\u001b[0;32m      6\u001b[0m \u001b[0mprint\u001b[0m\u001b[1;33m(\u001b[0m\u001b[0ml\u001b[0m\u001b[1;33m)\u001b[0m\u001b[1;33m\u001b[0m\u001b[1;33m\u001b[0m\u001b[0m\n",
      "\u001b[1;32m~\\Desktop\\lyap_volatility\\Lyapunov.py\u001b[0m in \u001b[0;36mJacobian\u001b[1;34m(alpha, beta, bias, x, L, m, q, t)\u001b[0m\n\u001b[0;32m     28\u001b[0m         \u001b[1;32mfor\u001b[0m \u001b[0mj\u001b[0m \u001b[1;32min\u001b[0m \u001b[0mrange\u001b[0m\u001b[1;33m(\u001b[0m\u001b[1;36m0\u001b[0m\u001b[1;33m,\u001b[0m\u001b[0mq\u001b[0m\u001b[1;33m)\u001b[0m\u001b[1;33m:\u001b[0m\u001b[1;33m\u001b[0m\u001b[1;33m\u001b[0m\u001b[0m\n\u001b[0;32m     29\u001b[0m           \u001b[1;31m#z=bias[j]+beta[:,j].dot(x[(t-m*L):(t):L])\u001b[0m\u001b[1;33m\u001b[0m\u001b[1;33m\u001b[0m\u001b[1;33m\u001b[0m\u001b[0m\n\u001b[1;32m---> 30\u001b[1;33m           \u001b[1;31m#der=Sigmoid_derivative(z)\u001b[0m\u001b[1;33m\u001b[0m\u001b[1;33m\u001b[0m\u001b[1;33m\u001b[0m\u001b[0m\n\u001b[0m\u001b[0;32m     31\u001b[0m           \u001b[0mder\u001b[0m\u001b[1;33m=\u001b[0m\u001b[1;36m1\u001b[0m\u001b[1;33m\u001b[0m\u001b[1;33m\u001b[0m\u001b[0m\n\u001b[0;32m     32\u001b[0m           \u001b[0mc\u001b[0m\u001b[1;33m.\u001b[0m\u001b[0mappend\u001b[0m\u001b[1;33m(\u001b[0m\u001b[0malpha\u001b[0m\u001b[1;33m[\u001b[0m\u001b[0mj\u001b[0m\u001b[1;33m]\u001b[0m\u001b[1;33m*\u001b[0m\u001b[0mder\u001b[0m\u001b[1;33m*\u001b[0m\u001b[0mbeta\u001b[0m\u001b[1;33m[\u001b[0m\u001b[0mi\u001b[0m\u001b[1;33m,\u001b[0m\u001b[0mj\u001b[0m\u001b[1;33m]\u001b[0m\u001b[1;33m)\u001b[0m\u001b[1;33m\u001b[0m\u001b[1;33m\u001b[0m\u001b[0m\n",
      "\u001b[1;31mTypeError\u001b[0m: float() argument must be a string or a number, not 'Tensor'"
     ]
    }
   ],
   "source": [
    "T=160\n",
    "a=model.layers[1].get_weights()[0]\n",
    "b=model.layers[0].get_weights()[0]\n",
    "bi=model.layers[0].get_weights()[1]\n",
    "l=Jacobian(a, b, bi, close,L,m,q,100)\n",
    "print(l)"
   ]
  },
  {
   "cell_type": "code",
   "execution_count": 131,
   "metadata": {},
   "outputs": [
    {
     "data": {
      "text/plain": [
       "array([[ 0.02135967, -0.02595076, -0.00658617,  0.28909543],\n",
       "       [ 1.        ,  0.        ,  0.        ,  0.        ],\n",
       "       [ 0.        ,  1.        ,  0.        ,  0.        ],\n",
       "       [ 0.        ,  0.        ,  1.        ,  0.        ]])"
      ]
     },
     "execution_count": 131,
     "metadata": {},
     "output_type": "execute_result"
    }
   ],
   "source": []
  },
  {
   "cell_type": "code",
   "execution_count": 112,
   "metadata": {
    "collapsed": true
   },
   "outputs": [
    {
     "ename": "ValueError",
     "evalue": "could not broadcast input array from shape (8) into shape (4)",
     "output_type": "error",
     "traceback": [
      "\u001b[1;31m---------------------------------------------------------------------------\u001b[0m",
      "\u001b[1;31mValueError\u001b[0m                                Traceback (most recent call last)",
      "\u001b[1;32m<ipython-input-112-91ef700477e1>\u001b[0m in \u001b[0;36m<module>\u001b[1;34m\u001b[0m\n\u001b[0;32m     12\u001b[0m \u001b[0mJ\u001b[0m\u001b[1;33m[\u001b[0m\u001b[0mi\u001b[0m\u001b[1;33m-\u001b[0m\u001b[1;36m1\u001b[0m\u001b[1;33m==\u001b[0m\u001b[0mj\u001b[0m\u001b[1;33m]\u001b[0m \u001b[1;33m=\u001b[0m \u001b[1;36m1\u001b[0m\u001b[1;33m\u001b[0m\u001b[1;33m\u001b[0m\u001b[0m\n\u001b[0;32m     13\u001b[0m \u001b[0marr\u001b[0m\u001b[1;33m=\u001b[0m\u001b[0mnp\u001b[0m\u001b[1;33m.\u001b[0m\u001b[0marray\u001b[0m\u001b[1;33m(\u001b[0m\u001b[0mk\u001b[0m\u001b[1;33m)\u001b[0m\u001b[1;33m\u001b[0m\u001b[1;33m\u001b[0m\u001b[0m\n\u001b[1;32m---> 14\u001b[1;33m \u001b[0mJ\u001b[0m\u001b[1;33m[\u001b[0m\u001b[1;36m0\u001b[0m\u001b[1;33m,\u001b[0m\u001b[1;33m:\u001b[0m\u001b[1;33m]\u001b[0m\u001b[1;33m=\u001b[0m\u001b[0marr\u001b[0m\u001b[1;33m\u001b[0m\u001b[1;33m\u001b[0m\u001b[0m\n\u001b[0m\u001b[0;32m     15\u001b[0m \u001b[0mJ\u001b[0m\u001b[1;33m\u001b[0m\u001b[1;33m\u001b[0m\u001b[0m\n",
      "\u001b[1;31mValueError\u001b[0m: could not broadcast input array from shape (8) into shape (4)"
     ]
    }
   ],
   "source": []
  },
  {
   "cell_type": "code",
   "execution_count": 119,
   "metadata": {
    "collapsed": true
   },
   "outputs": [
    {
     "name": "stdout",
     "output_type": "stream",
     "text": [
      "100\n",
      "99\n",
      "98\n",
      "97\n",
      "96\n",
      "95\n",
      "94\n",
      "93\n",
      "92\n",
      "91\n",
      "90\n",
      "89\n",
      "88\n",
      "87\n",
      "86\n",
      "85\n",
      "84\n",
      "83\n",
      "82\n",
      "81\n",
      "80\n",
      "79\n",
      "78\n",
      "77\n",
      "76\n",
      "75\n",
      "74\n",
      "73\n",
      "72\n",
      "71\n",
      "70\n",
      "69\n",
      "68\n",
      "67\n",
      "66\n",
      "65\n",
      "64\n",
      "63\n",
      "62\n",
      "61\n",
      "60\n",
      "59\n",
      "58\n",
      "57\n",
      "56\n",
      "55\n",
      "54\n",
      "53\n",
      "52\n",
      "51\n",
      "50\n",
      "49\n",
      "48\n",
      "47\n",
      "46\n",
      "45\n",
      "44\n",
      "43\n",
      "42\n",
      "41\n",
      "40\n",
      "39\n",
      "38\n",
      "37\n",
      "36\n",
      "35\n",
      "34\n",
      "33\n",
      "32\n",
      "31\n"
     ]
    }
   ],
   "source": []
  },
  {
   "cell_type": "code",
   "execution_count": 84,
   "metadata": {
    "collapsed": true
   },
   "outputs": [
    {
     "data": {
      "text/plain": [
       "numpy.float64"
      ]
     },
     "execution_count": 84,
     "metadata": {},
     "output_type": "execute_result"
    }
   ],
   "source": []
  },
  {
   "cell_type": "code",
   "execution_count": null,
   "metadata": {},
   "outputs": [],
   "source": []
  }
 ],
 "metadata": {
  "kernelspec": {
   "display_name": "Python 3",
   "language": "python",
   "name": "python3"
  },
  "language_info": {
   "codemirror_mode": {
    "name": "ipython",
    "version": 3
   },
   "file_extension": ".py",
   "mimetype": "text/x-python",
   "name": "python",
   "nbconvert_exporter": "python",
   "pygments_lexer": "ipython3",
   "version": "3.7.6"
  }
 },
 "nbformat": 4,
 "nbformat_minor": 4
}
