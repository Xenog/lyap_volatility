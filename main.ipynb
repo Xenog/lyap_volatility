{
 "cells": [
  {
   "cell_type": "code",
   "execution_count": 1,
   "metadata": {},
   "outputs": [],
   "source": [
    "import datetime as dt\n",
    "import os\n",
    "import pandas as pd\n",
    "import pickle\n",
    "import matplotlib.pyplot as plt\n",
    "import numpy as np\n",
    "import tensorflow as tf\n",
    "from pandas_datareader import data as pdr\n",
    "from tensorflow.keras.models import Sequential\n",
    "from tensorflow.keras.layers import Dense\n",
    "from sklearn.preprocessing import StandardScaler\n",
    "from lyap import *\n",
    "from Lyapunov import *"
   ]
  },
  {
   "cell_type": "code",
   "execution_count": 2,
   "metadata": {},
   "outputs": [
    {
     "data": {
      "text/plain": [
       "'The data are composed of eight daily major volatility indexes, mainly, the\\nVIX (S&P 500 volatility, U.S.), VSTOXX (STOXX 50 volatility, Eurozone),\\nJNIV (Nikkei 225 volatility, Japan), VFTSE (FTSE 100 volatility, U.K.),\\nVDAX (DAX 30 volatility, Germany), VCAC (CAC 40 volatility, France),\\nVAEX (AEX volatility, Netherlands), VSMI (SMI volatility, Switzerland),\\nfrom January 1, 2001 until December 15, 2016 collected from Datastream.\\nVolatility indexes (divided by 100) are the implied standard deviations of\\nOptions on the corresponding market indexes over the next 30 days.'"
      ]
     },
     "execution_count": 2,
     "metadata": {},
     "output_type": "execute_result"
    }
   ],
   "source": [
    "'''The data are composed of eight daily major volatility indexes, mainly, the\n",
    "VIX (S&P 500 volatility, U.S.), VSTOXX (STOXX 50 volatility, Eurozone),\n",
    "JNIV (Nikkei 225 volatility, Japan), VFTSE (FTSE 100 volatility, U.K.),\n",
    "VDAX (DAX 30 volatility, Germany), VCAC (CAC 40 volatility, France),\n",
    "VAEX (AEX volatility, Netherlands), VSMI (SMI volatility, Switzerland),\n",
    "from January 1, 2001 until December 15, 2016 collected from Datastream.\n",
    "Volatility indexes (divided by 100) are the implied standard deviations of\n",
    "Options on the corresponding market indexes over the next 30 days.'''"
   ]
  },
  {
   "cell_type": "code",
   "execution_count": 3,
   "metadata": {
    "scrolled": true
   },
   "outputs": [
    {
     "data": {
      "text/html": [
       "<div>\n",
       "<style scoped>\n",
       "    .dataframe tbody tr th:only-of-type {\n",
       "        vertical-align: middle;\n",
       "    }\n",
       "\n",
       "    .dataframe tbody tr th {\n",
       "        vertical-align: top;\n",
       "    }\n",
       "\n",
       "    .dataframe thead th {\n",
       "        text-align: right;\n",
       "    }\n",
       "</style>\n",
       "<table border=\"1\" class=\"dataframe\">\n",
       "  <thead>\n",
       "    <tr style=\"text-align: right;\">\n",
       "      <th></th>\n",
       "      <th>Date</th>\n",
       "      <th>Open</th>\n",
       "      <th>High</th>\n",
       "      <th>Low</th>\n",
       "      <th>Close</th>\n",
       "      <th>Adj Close</th>\n",
       "      <th>Volume</th>\n",
       "    </tr>\n",
       "  </thead>\n",
       "  <tbody>\n",
       "    <tr>\n",
       "      <th>0</th>\n",
       "      <td>2001-01-02</td>\n",
       "      <td>27.930000</td>\n",
       "      <td>30.400000</td>\n",
       "      <td>27.920000</td>\n",
       "      <td>29.990000</td>\n",
       "      <td>29.990000</td>\n",
       "      <td>0</td>\n",
       "    </tr>\n",
       "    <tr>\n",
       "      <th>1</th>\n",
       "      <td>2001-01-03</td>\n",
       "      <td>29.629999</td>\n",
       "      <td>29.959999</td>\n",
       "      <td>25.990000</td>\n",
       "      <td>26.600000</td>\n",
       "      <td>26.600000</td>\n",
       "      <td>0</td>\n",
       "    </tr>\n",
       "    <tr>\n",
       "      <th>2</th>\n",
       "      <td>2001-01-04</td>\n",
       "      <td>26.350000</td>\n",
       "      <td>27.190001</td>\n",
       "      <td>26.129999</td>\n",
       "      <td>26.969999</td>\n",
       "      <td>26.969999</td>\n",
       "      <td>0</td>\n",
       "    </tr>\n",
       "    <tr>\n",
       "      <th>3</th>\n",
       "      <td>2001-01-05</td>\n",
       "      <td>27.809999</td>\n",
       "      <td>29.040001</td>\n",
       "      <td>27.209999</td>\n",
       "      <td>28.670000</td>\n",
       "      <td>28.670000</td>\n",
       "      <td>0</td>\n",
       "    </tr>\n",
       "    <tr>\n",
       "      <th>4</th>\n",
       "      <td>2001-01-08</td>\n",
       "      <td>29.980000</td>\n",
       "      <td>30.799999</td>\n",
       "      <td>29.719999</td>\n",
       "      <td>29.840000</td>\n",
       "      <td>29.840000</td>\n",
       "      <td>0</td>\n",
       "    </tr>\n",
       "    <tr>\n",
       "      <th>...</th>\n",
       "      <td>...</td>\n",
       "      <td>...</td>\n",
       "      <td>...</td>\n",
       "      <td>...</td>\n",
       "      <td>...</td>\n",
       "      <td>...</td>\n",
       "      <td>...</td>\n",
       "    </tr>\n",
       "    <tr>\n",
       "      <th>4010</th>\n",
       "      <td>2016-12-09</td>\n",
       "      <td>12.590000</td>\n",
       "      <td>12.720000</td>\n",
       "      <td>11.670000</td>\n",
       "      <td>11.750000</td>\n",
       "      <td>11.750000</td>\n",
       "      <td>0</td>\n",
       "    </tr>\n",
       "    <tr>\n",
       "      <th>4011</th>\n",
       "      <td>2016-12-12</td>\n",
       "      <td>12.230000</td>\n",
       "      <td>12.780000</td>\n",
       "      <td>12.070000</td>\n",
       "      <td>12.640000</td>\n",
       "      <td>12.640000</td>\n",
       "      <td>0</td>\n",
       "    </tr>\n",
       "    <tr>\n",
       "      <th>4012</th>\n",
       "      <td>2016-12-13</td>\n",
       "      <td>12.460000</td>\n",
       "      <td>13.420000</td>\n",
       "      <td>12.340000</td>\n",
       "      <td>12.720000</td>\n",
       "      <td>12.720000</td>\n",
       "      <td>0</td>\n",
       "    </tr>\n",
       "    <tr>\n",
       "      <th>4013</th>\n",
       "      <td>2016-12-14</td>\n",
       "      <td>12.880000</td>\n",
       "      <td>13.390000</td>\n",
       "      <td>12.480000</td>\n",
       "      <td>13.190000</td>\n",
       "      <td>13.190000</td>\n",
       "      <td>0</td>\n",
       "    </tr>\n",
       "    <tr>\n",
       "      <th>4014</th>\n",
       "      <td>2016-12-15</td>\n",
       "      <td>13.070000</td>\n",
       "      <td>13.240000</td>\n",
       "      <td>12.460000</td>\n",
       "      <td>12.790000</td>\n",
       "      <td>12.790000</td>\n",
       "      <td>0</td>\n",
       "    </tr>\n",
       "  </tbody>\n",
       "</table>\n",
       "<p>4015 rows × 7 columns</p>\n",
       "</div>"
      ],
      "text/plain": [
       "            Date       Open       High        Low      Close  Adj Close  \\\n",
       "0     2001-01-02  27.930000  30.400000  27.920000  29.990000  29.990000   \n",
       "1     2001-01-03  29.629999  29.959999  25.990000  26.600000  26.600000   \n",
       "2     2001-01-04  26.350000  27.190001  26.129999  26.969999  26.969999   \n",
       "3     2001-01-05  27.809999  29.040001  27.209999  28.670000  28.670000   \n",
       "4     2001-01-08  29.980000  30.799999  29.719999  29.840000  29.840000   \n",
       "...          ...        ...        ...        ...        ...        ...   \n",
       "4010  2016-12-09  12.590000  12.720000  11.670000  11.750000  11.750000   \n",
       "4011  2016-12-12  12.230000  12.780000  12.070000  12.640000  12.640000   \n",
       "4012  2016-12-13  12.460000  13.420000  12.340000  12.720000  12.720000   \n",
       "4013  2016-12-14  12.880000  13.390000  12.480000  13.190000  13.190000   \n",
       "4014  2016-12-15  13.070000  13.240000  12.460000  12.790000  12.790000   \n",
       "\n",
       "      Volume  \n",
       "0          0  \n",
       "1          0  \n",
       "2          0  \n",
       "3          0  \n",
       "4          0  \n",
       "...      ...  \n",
       "4010       0  \n",
       "4011       0  \n",
       "4012       0  \n",
       "4013       0  \n",
       "4014       0  \n",
       "\n",
       "[4015 rows x 7 columns]"
      ]
     },
     "execution_count": 3,
     "metadata": {},
     "output_type": "execute_result"
    }
   ],
   "source": [
    "df = pd.read_csv('VIX.csv').loc[251:4265]\n",
    "df.index = np.arange(len(df))\n",
    "df"
   ]
  },
  {
   "cell_type": "code",
   "execution_count": 4,
   "metadata": {},
   "outputs": [],
   "source": [
    "#df['Ultimo'] = df['Ultimo'].str.replace(',','.')\n",
    "#df['Ultimo'] = list(map(float, df['Ultimo']))"
   ]
  },
  {
   "cell_type": "code",
   "execution_count": 5,
   "metadata": {},
   "outputs": [
    {
     "data": {
      "text/plain": [
       "[<matplotlib.lines.Line2D at 0x19d37d033d0>]"
      ]
     },
     "execution_count": 5,
     "metadata": {},
     "output_type": "execute_result"
    },
    {
     "data": {
      "image/png": "[encoded data removed]",
      "text/plain": [
       "<Figure size 432x288 with 1 Axes>"
      ]
     },
     "metadata": {
      "needs_background": "light"
     },
     "output_type": "display_data"
    }
   ],
   "source": [
    "df['Close'] = df['Close']/100\n",
    "close = df['Close']\n",
    "plt.plot(close)"
   ]
  },
  {
   "cell_type": "code",
   "execution_count": 6,
   "metadata": {},
   "outputs": [
    {
     "data": {
      "text/html": [
       "<div>\n",
       "<style scoped>\n",
       "    .dataframe tbody tr th:only-of-type {\n",
       "        vertical-align: middle;\n",
       "    }\n",
       "\n",
       "    .dataframe tbody tr th {\n",
       "        vertical-align: top;\n",
       "    }\n",
       "\n",
       "    .dataframe thead th {\n",
       "        text-align: right;\n",
       "    }\n",
       "</style>\n",
       "<table border=\"1\" class=\"dataframe\">\n",
       "  <thead>\n",
       "    <tr style=\"text-align: right;\">\n",
       "      <th></th>\n",
       "      <th>Open</th>\n",
       "      <th>High</th>\n",
       "      <th>Low</th>\n",
       "      <th>Close</th>\n",
       "      <th>Adj Close</th>\n",
       "      <th>Volume</th>\n",
       "    </tr>\n",
       "  </thead>\n",
       "  <tbody>\n",
       "    <tr>\n",
       "      <th>count</th>\n",
       "      <td>4015.000000</td>\n",
       "      <td>4015.000000</td>\n",
       "      <td>4015.000000</td>\n",
       "      <td>4015.000000</td>\n",
       "      <td>4015.000000</td>\n",
       "      <td>4015.0</td>\n",
       "    </tr>\n",
       "    <tr>\n",
       "      <th>mean</th>\n",
       "      <td>20.361858</td>\n",
       "      <td>21.151357</td>\n",
       "      <td>19.517935</td>\n",
       "      <td>0.202263</td>\n",
       "      <td>20.226301</td>\n",
       "      <td>0.0</td>\n",
       "    </tr>\n",
       "    <tr>\n",
       "      <th>std</th>\n",
       "      <td>8.973546</td>\n",
       "      <td>9.471873</td>\n",
       "      <td>8.418720</td>\n",
       "      <td>0.089144</td>\n",
       "      <td>8.914352</td>\n",
       "      <td>0.0</td>\n",
       "    </tr>\n",
       "    <tr>\n",
       "      <th>min</th>\n",
       "      <td>9.680000</td>\n",
       "      <td>10.060000</td>\n",
       "      <td>9.390000</td>\n",
       "      <td>0.098900</td>\n",
       "      <td>9.890000</td>\n",
       "      <td>0.0</td>\n",
       "    </tr>\n",
       "    <tr>\n",
       "      <th>25%</th>\n",
       "      <td>14.045000</td>\n",
       "      <td>14.630000</td>\n",
       "      <td>13.570000</td>\n",
       "      <td>0.139800</td>\n",
       "      <td>13.980000</td>\n",
       "      <td>0.0</td>\n",
       "    </tr>\n",
       "    <tr>\n",
       "      <th>50%</th>\n",
       "      <td>17.900000</td>\n",
       "      <td>18.580000</td>\n",
       "      <td>17.139999</td>\n",
       "      <td>0.177900</td>\n",
       "      <td>17.790001</td>\n",
       "      <td>0.0</td>\n",
       "    </tr>\n",
       "    <tr>\n",
       "      <th>75%</th>\n",
       "      <td>23.695001</td>\n",
       "      <td>24.575000</td>\n",
       "      <td>22.765000</td>\n",
       "      <td>0.236350</td>\n",
       "      <td>23.635001</td>\n",
       "      <td>0.0</td>\n",
       "    </tr>\n",
       "    <tr>\n",
       "      <th>max</th>\n",
       "      <td>80.739998</td>\n",
       "      <td>89.529999</td>\n",
       "      <td>72.760002</td>\n",
       "      <td>0.808600</td>\n",
       "      <td>80.860001</td>\n",
       "      <td>0.0</td>\n",
       "    </tr>\n",
       "  </tbody>\n",
       "</table>\n",
       "</div>"
      ],
      "text/plain": [
       "              Open         High          Low        Close    Adj Close  Volume\n",
       "count  4015.000000  4015.000000  4015.000000  4015.000000  4015.000000  4015.0\n",
       "mean     20.361858    21.151357    19.517935     0.202263    20.226301     0.0\n",
       "std       8.973546     9.471873     8.418720     0.089144     8.914352     0.0\n",
       "min       9.680000    10.060000     9.390000     0.098900     9.890000     0.0\n",
       "25%      14.045000    14.630000    13.570000     0.139800    13.980000     0.0\n",
       "50%      17.900000    18.580000    17.139999     0.177900    17.790001     0.0\n",
       "75%      23.695001    24.575000    22.765000     0.236350    23.635001     0.0\n",
       "max      80.739998    89.529999    72.760002     0.808600    80.860001     0.0"
      ]
     },
     "execution_count": 6,
     "metadata": {},
     "output_type": "execute_result"
    }
   ],
   "source": [
    "df.describe()"
   ]
  },
  {
   "cell_type": "code",
   "execution_count": 7,
   "metadata": {},
   "outputs": [],
   "source": [
    "# Dimensionality parameters\n",
    "L = 1   # step granularity\n",
    "m = 4  # window size\n",
    "q = 1  # number of neurons"
   ]
  },
  {
   "cell_type": "code",
   "execution_count": 8,
   "metadata": {},
   "outputs": [],
   "source": [
    "def sliding_window(df, m, L): \n",
    "    slid_w = []\n",
    "    targets = []\n",
    "    for i,row in df.iterrows():\n",
    "        if i + m*L < len(df.index):\n",
    "            slid_w.append(list(df.loc[i:i+L*m-1:L,'Close']))\n",
    "            targets.append(df.loc[i+m*L,'Close'])\n",
    "    data = pd.DataFrame(slid_w)\n",
    "    return data,targets\n",
    "\n",
    "X, y = sliding_window(df, m, L)\n",
    "y = pd.DataFrame(y, columns = ['target'])"
   ]
  },
  {
   "cell_type": "code",
   "execution_count": 9,
   "metadata": {},
   "outputs": [],
   "source": [
    "scaler = StandardScaler()\n",
    "scaler.fit(pd.concat([X, y]))\n",
    "X = pd.DataFrame(scaler.transform(pd.concat([X, y], axis = 1)))"
   ]
  },
  {
   "cell_type": "code",
   "execution_count": 10,
   "metadata": {},
   "outputs": [],
   "source": [
    "y = X.loc[:,m]\n",
    "X = X.loc[:,:(m-1)]"
   ]
  },
  {
   "cell_type": "code",
   "execution_count": 11,
   "metadata": {},
   "outputs": [
    {
     "name": "stdout",
     "output_type": "stream",
     "text": [
      "126/126 [==============================] - 0s 1ms/step - loss: 0.0368 - mse: 0.0368 - mae: 0.1177\n"
     ]
    },
    {
     "data": {
      "text/plain": [
       "[0.03676607087254524, 0.03676607087254524, 0.11770046502351761]"
      ]
     },
     "execution_count": 11,
     "metadata": {},
     "output_type": "execute_result"
    }
   ],
   "source": [
    "model = Sequential([\n",
    "  Dense(q, activation='tanh', input_shape=(m,)),\n",
    "  Dense(1),\n",
    "])\n",
    "\n",
    "model.compile(\n",
    "  optimizer='adam',\n",
    "  loss='mean_squared_error',\n",
    "  metrics=['mse','mae'],\n",
    ")\n",
    "\n",
    "model.fit(X, np.asarray(y), epochs=2000, verbose = False)\n",
    "model.evaluate(X, np.asarray(y))"
   ]
  },
  {
   "cell_type": "code",
   "execution_count": 12,
   "metadata": {},
   "outputs": [],
   "source": [
    "y_predict = pd.DataFrame(model.predict(X).reshape(1,-1)).T\n",
    "y_predict.columns = ['target']\n",
    "new_X = pd.concat([X, y_predict], axis = 1)\n",
    "new_X = pd.DataFrame(scaler.inverse_transform(new_X))\n",
    "new_y = new_X[m]"
   ]
  },
  {
   "cell_type": "code",
   "execution_count": 13,
   "metadata": {},
   "outputs": [
    {
     "data": {
      "text/plain": [
       "0       0.282005\n",
       "1       0.292219\n",
       "2       0.275902\n",
       "3       0.265174\n",
       "4       0.255689\n",
       "          ...   \n",
       "4006    0.129037\n",
       "4007    0.121905\n",
       "4008    0.129051\n",
       "4009    0.129948\n",
       "4010    0.133656\n",
       "Name: 4, Length: 4011, dtype: float64"
      ]
     },
     "execution_count": 13,
     "metadata": {},
     "output_type": "execute_result"
    }
   ],
   "source": [
    "new_y"
   ]
  },
  {
   "cell_type": "code",
   "execution_count": 14,
   "metadata": {},
   "outputs": [],
   "source": [
    "new_close = close[m:]\n",
    "new_close.index = range(len(new_close))"
   ]
  },
  {
   "cell_type": "code",
   "execution_count": 15,
   "metadata": {},
   "outputs": [
    {
     "data": {
      "text/plain": [
       "[<matplotlib.lines.Line2D at 0x19d501f6ca0>]"
      ]
     },
     "execution_count": 15,
     "metadata": {},
     "output_type": "execute_result"
    },
    {
     "data": {
      "image/png": "[encoded data removed]",
      "text/plain": [
       "<Figure size 432x288 with 1 Axes>"
      ]
     },
     "metadata": {
      "needs_background": "light"
     },
     "output_type": "display_data"
    }
   ],
   "source": [
    "plt.plot(new_y[1010:1020],c = 'red')\n",
    "plt.plot(new_close[1010:1020], c = 'black')"
   ]
  },
  {
   "cell_type": "code",
   "execution_count": 16,
   "metadata": {},
   "outputs": [],
   "source": [
    "alpha_0 = model.layers[1].get_weights()[1]\n",
    "alpha_1 = model.layers[1].get_weights()[0]\n",
    "beta_0 = model.layers[0].get_weights()[1]\n",
    "beta_1 = np.asmatrix(model.layers[1].get_weights()[1])"
   ]
  },
  {
   "cell_type": "code",
   "execution_count": 17,
   "metadata": {},
   "outputs": [
    {
     "name": "stdout",
     "output_type": "stream",
     "text": [
      "0.023809523809523808\n"
     ]
    }
   ],
   "source": [
    "T= 4000\n",
    "a=model.layers[1].get_weights()[0]\n",
    "b=model.layers[0].get_weights()[0]\n",
    "bi=model.layers[0].get_weights()[1]\n",
    "l=Lyapunov(a, b, bi, close,L,m,q,100)\n",
    "print(l)"
   ]
  },
  {
   "cell_type": "code",
   "execution_count": null,
   "metadata": {},
   "outputs": [],
   "source": []
  },
  {
   "cell_type": "code",
   "execution_count": null,
   "metadata": {},
   "outputs": [],
   "source": []
  },
  {
   "cell_type": "code",
   "execution_count": null,
   "metadata": {},
   "outputs": [],
   "source": []
  },
  {
   "cell_type": "code",
   "execution_count": null,
   "metadata": {},
   "outputs": [],
   "source": []
  },
  {
   "cell_type": "code",
   "execution_count": null,
   "metadata": {},
   "outputs": [],
   "source": []
  }
 ],
 "metadata": {
  "kernelspec": {
   "display_name": "Python 3",
   "language": "python",
   "name": "python3"
  },
  "language_info": {
   "codemirror_mode": {
    "name": "ipython",
    "version": 3
   },
   "file_extension": ".py",
   "mimetype": "text/x-python",
   "name": "python",
   "nbconvert_exporter": "python",
   "pygments_lexer": "ipython3",
   "version": "3.8.6"
  }
 },
 "nbformat": 4,
 "nbformat_minor": 4
}
