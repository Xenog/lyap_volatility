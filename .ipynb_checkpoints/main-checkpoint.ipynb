{
 "cells": [
  {
   "cell_type": "code",
   "execution_count": 35,
   "metadata": {},
   "outputs": [],
   "source": [
    "import datetime as dt\n",
    "import os\n",
    "import pandas as pd\n",
    "import pickle\n",
    "import matplotlib.pyplot as plt\n",
    "import numpy as np\n",
    "import tensorflow as tf\n",
    "from sklearn\n",
    "from pandas_datareader import data as pdr\n",
    "from tensorflow.keras.models import Sequential\n",
    "from tensorflow.keras.layers import Dense"
   ]
  },
  {
   "cell_type": "code",
   "execution_count": 18,
   "metadata": {},
   "outputs": [],
   "source": [
    "def get_data_from_yahoo(ticker):\n",
    "    if not os.path.exists('stocks_dfs') :\n",
    "        os.makedirs('stocks_dfs')\n",
    "\n",
    "    start = dt.datetime(2010, 1, 1)\n",
    "    end = dt.datetime(2020, 3, 20)\n",
    "\n",
    "    if not os.path.exists('stocks_dfs/{}.pkl'.format(ticker)):\n",
    "        df = pdr.get_data_yahoo(ticker, start, end)\n",
    "        df.to_pickle('stocks_dfs/{}.pkl'.format(ticker))\n",
    "    else:\n",
    "        print('Already have {}'.format(ticker))"
   ]
  },
  {
   "cell_type": "code",
   "execution_count": 19,
   "metadata": {},
   "outputs": [
    {
     "name": "stdout",
     "output_type": "stream",
     "text": [
      "Already have VIX\n"
     ]
    }
   ],
   "source": [
    "get_data_from_yahoo('VIX')"
   ]
  },
  {
   "cell_type": "code",
   "execution_count": 53,
   "metadata": {
    "scrolled": true
   },
   "outputs": [
    {
     "data": {
      "text/html": [
       "<div>\n",
       "<style scoped>\n",
       "    .dataframe tbody tr th:only-of-type {\n",
       "        vertical-align: middle;\n",
       "    }\n",
       "\n",
       "    .dataframe tbody tr th {\n",
       "        vertical-align: top;\n",
       "    }\n",
       "\n",
       "    .dataframe thead th {\n",
       "        text-align: right;\n",
       "    }\n",
       "</style>\n",
       "<table border=\"1\" class=\"dataframe\">\n",
       "  <thead>\n",
       "    <tr style=\"text-align: right;\">\n",
       "      <th></th>\n",
       "      <th>High</th>\n",
       "      <th>Low</th>\n",
       "      <th>Open</th>\n",
       "      <th>Close</th>\n",
       "      <th>Volume</th>\n",
       "      <th>Adj Close</th>\n",
       "    </tr>\n",
       "  </thead>\n",
       "  <tbody>\n",
       "    <tr>\n",
       "      <th>0</th>\n",
       "      <td>30096.900391</td>\n",
       "      <td>27953.000000</td>\n",
       "      <td>28200.400391</td>\n",
       "      <td>28447.699219</td>\n",
       "      <td>811330.0</td>\n",
       "      <td>28447.699219</td>\n",
       "    </tr>\n",
       "    <tr>\n",
       "      <th>1</th>\n",
       "      <td>27540.699219</td>\n",
       "      <td>25974.000000</td>\n",
       "      <td>26551.199219</td>\n",
       "      <td>26056.500000</td>\n",
       "      <td>377529.0</td>\n",
       "      <td>26056.500000</td>\n",
       "    </tr>\n",
       "    <tr>\n",
       "      <th>2</th>\n",
       "      <td>26056.500000</td>\n",
       "      <td>23582.800781</td>\n",
       "      <td>25231.900391</td>\n",
       "      <td>23582.800781</td>\n",
       "      <td>367585.0</td>\n",
       "      <td>23582.800781</td>\n",
       "    </tr>\n",
       "    <tr>\n",
       "      <th>3</th>\n",
       "      <td>23582.800781</td>\n",
       "      <td>21274.000000</td>\n",
       "      <td>23582.800781</td>\n",
       "      <td>21274.000000</td>\n",
       "      <td>570963.0</td>\n",
       "      <td>21274.000000</td>\n",
       "    </tr>\n",
       "    <tr>\n",
       "      <th>4</th>\n",
       "      <td>20202.000000</td>\n",
       "      <td>19212.500000</td>\n",
       "      <td>19789.699219</td>\n",
       "      <td>19295.000000</td>\n",
       "      <td>539795.0</td>\n",
       "      <td>19295.000000</td>\n",
       "    </tr>\n",
       "    <tr>\n",
       "      <th>...</th>\n",
       "      <td>...</td>\n",
       "      <td>...</td>\n",
       "      <td>...</td>\n",
       "      <td>...</td>\n",
       "      <td>...</td>\n",
       "      <td>...</td>\n",
       "    </tr>\n",
       "    <tr>\n",
       "      <th>782</th>\n",
       "      <td>10000.000000</td>\n",
       "      <td>9600.000000</td>\n",
       "      <td>9900.000000</td>\n",
       "      <td>9800.000000</td>\n",
       "      <td>257523.0</td>\n",
       "      <td>9800.000000</td>\n",
       "    </tr>\n",
       "    <tr>\n",
       "      <th>783</th>\n",
       "      <td>9900.000000</td>\n",
       "      <td>9700.000000</td>\n",
       "      <td>9900.000000</td>\n",
       "      <td>9900.000000</td>\n",
       "      <td>184915.0</td>\n",
       "      <td>9900.000000</td>\n",
       "    </tr>\n",
       "    <tr>\n",
       "      <th>784</th>\n",
       "      <td>9500.000000</td>\n",
       "      <td>8400.000000</td>\n",
       "      <td>9300.000000</td>\n",
       "      <td>9300.000000</td>\n",
       "      <td>277990.0</td>\n",
       "      <td>9300.000000</td>\n",
       "    </tr>\n",
       "    <tr>\n",
       "      <th>785</th>\n",
       "      <td>9700.000000</td>\n",
       "      <td>9300.000000</td>\n",
       "      <td>9700.000000</td>\n",
       "      <td>9300.000000</td>\n",
       "      <td>311049.0</td>\n",
       "      <td>9300.000000</td>\n",
       "    </tr>\n",
       "    <tr>\n",
       "      <th>786</th>\n",
       "      <td>9400.000000</td>\n",
       "      <td>9100.000000</td>\n",
       "      <td>9400.000000</td>\n",
       "      <td>9300.000000</td>\n",
       "      <td>82483.0</td>\n",
       "      <td>9300.000000</td>\n",
       "    </tr>\n",
       "  </tbody>\n",
       "</table>\n",
       "<p>787 rows × 6 columns</p>\n",
       "</div>"
      ],
      "text/plain": [
       "             High           Low          Open         Close    Volume  \\\n",
       "0    30096.900391  27953.000000  28200.400391  28447.699219  811330.0   \n",
       "1    27540.699219  25974.000000  26551.199219  26056.500000  377529.0   \n",
       "2    26056.500000  23582.800781  25231.900391  23582.800781  367585.0   \n",
       "3    23582.800781  21274.000000  23582.800781  21274.000000  570963.0   \n",
       "4    20202.000000  19212.500000  19789.699219  19295.000000  539795.0   \n",
       "..            ...           ...           ...           ...       ...   \n",
       "782  10000.000000   9600.000000   9900.000000   9800.000000  257523.0   \n",
       "783   9900.000000   9700.000000   9900.000000   9900.000000  184915.0   \n",
       "784   9500.000000   8400.000000   9300.000000   9300.000000  277990.0   \n",
       "785   9700.000000   9300.000000   9700.000000   9300.000000  311049.0   \n",
       "786   9400.000000   9100.000000   9400.000000   9300.000000   82483.0   \n",
       "\n",
       "        Adj Close  \n",
       "0    28447.699219  \n",
       "1    26056.500000  \n",
       "2    23582.800781  \n",
       "3    21274.000000  \n",
       "4    19295.000000  \n",
       "..            ...  \n",
       "782   9800.000000  \n",
       "783   9900.000000  \n",
       "784   9300.000000  \n",
       "785   9300.000000  \n",
       "786   9300.000000  \n",
       "\n",
       "[787 rows x 6 columns]"
      ]
     },
     "execution_count": 53,
     "metadata": {},
     "output_type": "execute_result"
    }
   ],
   "source": [
    "df = pd.read_pickle('stocks_dfs/VIX.pkl')\n",
    "df.index = np.arange(len(df))\n",
    "df"
   ]
  },
  {
   "cell_type": "code",
   "execution_count": 49,
   "metadata": {
    "scrolled": true
   },
   "outputs": [
    {
     "data": {
      "text/plain": [
       "[<matplotlib.lines.Line2D at 0x1cd7f5d66a0>]"
      ]
     },
     "execution_count": 49,
     "metadata": {},
     "output_type": "execute_result"
    },
    {
     "data": {
      "image/png": "[encoded data removed]",
      "text/plain": [
       "<Figure size 432x288 with 1 Axes>"
      ]
     },
     "metadata": {
      "needs_background": "light"
     },
     "output_type": "display_data"
    }
   ],
   "source": [
    "close = df.Close\n",
    "plt.plot(close)"
   ]
  },
  {
   "cell_type": "code",
   "execution_count": 95,
   "metadata": {},
   "outputs": [],
   "source": [
    "# Dimensionality parameters\n",
    "L = 2   # step granularity\n",
    "m = 10  # window size\n",
    "q = 16  # number of neurons"
   ]
  },
  {
   "cell_type": "code",
   "execution_count": 96,
   "metadata": {},
   "outputs": [],
   "source": [
    "def sliding_window(df, m, L): \n",
    "    slid_w = []\n",
    "    targets = []\n",
    "    for i,row in df.iterrows():\n",
    "        if i + m*L < len(df.index):\n",
    "            slid_w.append(list(df.loc[i:i+L*m-1:L,'Close']))\n",
    "            targets.append(df.loc[i+m*L,'Close'])\n",
    "    data = pd.DataFrame(slid_w)\n",
    "    return data,targets\n",
    "\n",
    "X, y = sliding_window(df, m, L)"
   ]
  },
  {
   "cell_type": "code",
   "execution_count": 97,
   "metadata": {},
   "outputs": [],
   "source": [
    "ratio = 0.8\n",
    "split_index = round(0.8*len(X))\n",
    "X_train, y_train = X.loc[:split_index,:], y[:split_index]\n",
    "X_test, y_test = X.loc[split_index:,:], y[split_index:]"
   ]
  },
  {
   "cell_type": "code",
   "execution_count": 98,
   "metadata": {},
   "outputs": [
    {
     "data": {
      "text/plain": [
       "0      23582.800781\n",
       "1      21274.000000\n",
       "2      19295.000000\n",
       "3      17728.300781\n",
       "4      19047.599609\n",
       "           ...     \n",
       "762    10500.000000\n",
       "763    10400.000000\n",
       "764    10300.000000\n",
       "765    10100.000000\n",
       "766    10700.000000\n",
       "Name: 1, Length: 767, dtype: float64"
      ]
     },
     "execution_count": 98,
     "metadata": {},
     "output_type": "execute_result"
    }
   ],
   "source": [
    "X[1]"
   ]
  },
  {
   "cell_type": "code",
   "execution_count": 112,
   "metadata": {},
   "outputs": [
    {
     "name": "stdout",
     "output_type": "stream",
     "text": [
      "24/24 [==============================] - 0s 623us/step - loss: 76469176.0000 - auc: 0.0000e+00\n"
     ]
    },
    {
     "data": {
      "text/plain": [
       "[76469176.0, 0.0]"
      ]
     },
     "execution_count": 112,
     "metadata": {},
     "output_type": "execute_result"
    }
   ],
   "source": [
    "model = Sequential([\n",
    "  Dense(q, activation='tanh', input_shape=(m,)),\n",
    "  Dense(1, activation='sigmoid'),\n",
    "])\n",
    "\n",
    "model.compile(\n",
    "  optimizer='adam',\n",
    "  loss='mean_squared_error',\n",
    "  metrics=['AUC'],\n",
    ")\n",
    "\n",
    "model.fit(np.asarray(X), np.asarray(y), epochs=50, verbose = False)\n",
    "model.evaluate(np.asarray(X), np.asarray(y))"
   ]
  },
  {
   "cell_type": "code",
   "execution_count": 105,
   "metadata": {},
   "outputs": [
    {
     "data": {
      "text/plain": [
       "[array([[ 0.11329848, -0.1862261 , -0.40607423,  0.1365093 ,  0.19447428,\n",
       "          0.25179803, -0.16558525, -0.32129532, -0.25920165,  0.45516407,\n",
       "         -0.11746016, -0.17196253, -0.19244194,  0.30683875,  0.38831496,\n",
       "          0.2553621 ],\n",
       "        [-0.14074817, -0.11009285, -0.18512657,  0.32926333,  0.43252838,\n",
       "         -0.28933954, -0.01293451, -0.4781901 , -0.38759416, -0.3946771 ,\n",
       "          0.26752865,  0.19140148,  0.06439267, -0.2378832 , -0.43989515,\n",
       "         -0.45492226],\n",
       "        [-0.01033381, -0.42887664, -0.13371417, -0.35266405, -0.28758228,\n",
       "         -0.35449576,  0.22521639,  0.19197865, -0.08724564,  0.14572483,\n",
       "          0.0904038 ,  0.10258693, -0.28988877, -0.01102694, -0.28846726,\n",
       "          0.04055679],\n",
       "        [-0.2905252 , -0.439414  , -0.01847285, -0.4529767 , -0.42860645,\n",
       "          0.10208589, -0.06158566, -0.37278092, -0.18006608,  0.22311074,\n",
       "         -0.04233125,  0.2531802 ,  0.486445  , -0.01219167, -0.428052  ,\n",
       "         -0.03125238],\n",
       "        [ 0.14855951,  0.11306852, -0.2654328 , -0.40362567,  0.24509001,\n",
       "         -0.15230429,  0.24383289, -0.05622663,  0.09151566, -0.2688626 ,\n",
       "          0.01177028, -0.17798465, -0.27140734,  0.1481078 ,  0.35940474,\n",
       "          0.46413273],\n",
       "        [-0.1880854 , -0.05141208, -0.0666433 , -0.4432223 ,  0.44805205,\n",
       "         -0.39976168, -0.02815989,  0.2869886 , -0.27498963, -0.2832148 ,\n",
       "          0.03611326, -0.42026424,  0.34555736, -0.00808481, -0.42313215,\n",
       "          0.47032976],\n",
       "        [-0.23497024, -0.09664693, -0.41432276, -0.03548265,  0.05383283,\n",
       "          0.2720741 , -0.03617284, -0.00623493, -0.10001582,  0.23973012,\n",
       "          0.2922104 ,  0.39040905, -0.06692898, -0.44878802,  0.01693019,\n",
       "          0.29951692],\n",
       "        [ 0.46671766, -0.3015138 , -0.11039728, -0.36616835, -0.1681532 ,\n",
       "         -0.25589225,  0.10182875,  0.36515746,  0.08028746,  0.05085433,\n",
       "         -0.02825323,  0.45007592,  0.46626455, -0.28562334,  0.08630407,\n",
       "          0.30563956],\n",
       "        [ 0.10069716,  0.25331873, -0.27130088, -0.20865625,  0.33457255,\n",
       "         -0.33790088,  0.0917778 , -0.28618982,  0.47779387,  0.00486317,\n",
       "         -0.03126934, -0.06529182, -0.11680757,  0.4528307 ,  0.18624061,\n",
       "          0.13520765],\n",
       "        [ 0.20760864,  0.12870747, -0.15261364, -0.31434488, -0.31380486,\n",
       "         -0.17771837,  0.08467185,  0.44451532,  0.36306965,  0.17786533,\n",
       "          0.06572497, -0.35581997, -0.3194576 ,  0.24453829, -0.3771946 ,\n",
       "          0.02525675]], dtype=float32),\n",
       " array([ 0.        ,  0.        ,  0.        ,  0.        ,  0.        ,\n",
       "         0.        ,  0.        , -0.0130102 ,  0.        ,  0.        ,\n",
       "         0.        ,  0.        ,  0.01156117,  0.01656626,  0.        ,\n",
       "         0.        ], dtype=float32),\n",
       " array([[ 0.6519564 ],\n",
       "        [-0.02873367],\n",
       "        [ 0.0271919 ],\n",
       "        [ 0.02089172],\n",
       "        [ 0.1074294 ],\n",
       "        [-0.5508715 ],\n",
       "        [ 0.31388572],\n",
       "        [-0.48410162],\n",
       "        [-0.6371592 ],\n",
       "        [-0.07540199],\n",
       "        [-0.1976601 ],\n",
       "        [ 0.56626403],\n",
       "        [ 0.86298007],\n",
       "        [ 0.81802773],\n",
       "        [-0.8457307 ],\n",
       "        [-0.21662991]], dtype=float32),\n",
       " array([0.3340354], dtype=float32)]"
      ]
     },
     "execution_count": 105,
     "metadata": {},
     "output_type": "execute_result"
    }
   ],
   "source": [
    "model.get_weights()\n",
    "## dai i pesi della NN a lyapunov -> coefficiente di lyap "
   ]
  },
  {
   "cell_type": "code",
   "execution_count": null,
   "metadata": {},
   "outputs": [],
   "source": []
  }
 ],
 "metadata": {
  "kernelspec": {
   "display_name": "Python 3",
   "language": "python",
   "name": "python3"
  },
  "language_info": {
   "codemirror_mode": {
    "name": "ipython",
    "version": 3
   },
   "file_extension": ".py",
   "mimetype": "text/x-python",
   "name": "python",
   "nbconvert_exporter": "python",
   "pygments_lexer": "ipython3",
   "version": "3.8.6"
  }
 },
 "nbformat": 4,
 "nbformat_minor": 4
}
