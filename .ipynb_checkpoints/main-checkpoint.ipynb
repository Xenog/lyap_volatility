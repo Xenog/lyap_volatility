{
 "cells": [
  {
   "cell_type": "code",
   "execution_count": 8,
   "metadata": {},
   "outputs": [],
   "source": [
    "import datetime as dt\n",
    "import os\n",
    "import pandas as pd\n",
    "import pickle\n",
    "import matplotlib.pyplot as plt\n",
    "import numpy as np\n",
    "from pandas_datareader import data as pdr\n",
    "from tensorflow.keras.models import Sequential\n",
    "from tensorflow.keras.layers import Dense"
   ]
  },
  {
   "cell_type": "code",
   "execution_count": 9,
   "metadata": {},
   "outputs": [],
   "source": [
    "def get_data_from_yahoo(ticker):\n",
    "    if not os.path.exists('stocks_dfs') :\n",
    "        os.makedirs('stocks_dfs')\n",
    "\n",
    "    start = dt.datetime(2010, 1, 1)\n",
    "    end = dt.datetime(2020, 3, 20)\n",
    "\n",
    "    if not os.path.exists('stocks_dfs/{}.pkl'.format(ticker)):\n",
    "        df = pdr.get_data_yahoo(ticker, start, end)\n",
    "        df.to_pickle('stocks_dfs/{}.pkl'.format(ticker))\n",
    "    else:\n",
    "        print('Already have {}'.format(ticker))"
   ]
  },
  {
   "cell_type": "code",
   "execution_count": 10,
   "metadata": {},
   "outputs": [],
   "source": [
    "get_data_from_yahoo('VIX')"
   ]
  },
  {
   "cell_type": "code",
   "execution_count": 11,
   "metadata": {},
   "outputs": [
    {
     "data": {
      "text/html": [
       "<div>\n",
       "<style scoped>\n",
       "    .dataframe tbody tr th:only-of-type {\n",
       "        vertical-align: middle;\n",
       "    }\n",
       "\n",
       "    .dataframe tbody tr th {\n",
       "        vertical-align: top;\n",
       "    }\n",
       "\n",
       "    .dataframe thead th {\n",
       "        text-align: right;\n",
       "    }\n",
       "</style>\n",
       "<table border=\"1\" class=\"dataframe\">\n",
       "  <thead>\n",
       "    <tr style=\"text-align: right;\">\n",
       "      <th></th>\n",
       "      <th>High</th>\n",
       "      <th>Low</th>\n",
       "      <th>Open</th>\n",
       "      <th>Close</th>\n",
       "      <th>Volume</th>\n",
       "      <th>Adj Close</th>\n",
       "    </tr>\n",
       "    <tr>\n",
       "      <th>Date</th>\n",
       "      <th></th>\n",
       "      <th></th>\n",
       "      <th></th>\n",
       "      <th></th>\n",
       "      <th></th>\n",
       "      <th></th>\n",
       "    </tr>\n",
       "  </thead>\n",
       "  <tbody>\n",
       "    <tr>\n",
       "      <th>2014-12-04</th>\n",
       "      <td>30096.900391</td>\n",
       "      <td>27953.000000</td>\n",
       "      <td>28200.400391</td>\n",
       "      <td>28447.699219</td>\n",
       "      <td>811330.0</td>\n",
       "      <td>28447.699219</td>\n",
       "    </tr>\n",
       "    <tr>\n",
       "      <th>2014-12-05</th>\n",
       "      <td>27540.699219</td>\n",
       "      <td>25974.000000</td>\n",
       "      <td>26551.199219</td>\n",
       "      <td>26056.500000</td>\n",
       "      <td>377529.0</td>\n",
       "      <td>26056.500000</td>\n",
       "    </tr>\n",
       "    <tr>\n",
       "      <th>2014-12-08</th>\n",
       "      <td>26056.500000</td>\n",
       "      <td>23582.800781</td>\n",
       "      <td>25231.900391</td>\n",
       "      <td>23582.800781</td>\n",
       "      <td>367585.0</td>\n",
       "      <td>23582.800781</td>\n",
       "    </tr>\n",
       "    <tr>\n",
       "      <th>2014-12-09</th>\n",
       "      <td>23582.800781</td>\n",
       "      <td>21274.000000</td>\n",
       "      <td>23582.800781</td>\n",
       "      <td>21274.000000</td>\n",
       "      <td>570963.0</td>\n",
       "      <td>21274.000000</td>\n",
       "    </tr>\n",
       "    <tr>\n",
       "      <th>2014-12-10</th>\n",
       "      <td>20202.000000</td>\n",
       "      <td>19212.500000</td>\n",
       "      <td>19789.699219</td>\n",
       "      <td>19295.000000</td>\n",
       "      <td>539795.0</td>\n",
       "      <td>19295.000000</td>\n",
       "    </tr>\n",
       "    <tr>\n",
       "      <th>...</th>\n",
       "      <td>...</td>\n",
       "      <td>...</td>\n",
       "      <td>...</td>\n",
       "      <td>...</td>\n",
       "      <td>...</td>\n",
       "      <td>...</td>\n",
       "    </tr>\n",
       "    <tr>\n",
       "      <th>2018-01-22</th>\n",
       "      <td>10000.000000</td>\n",
       "      <td>9600.000000</td>\n",
       "      <td>9900.000000</td>\n",
       "      <td>9800.000000</td>\n",
       "      <td>257523.0</td>\n",
       "      <td>9800.000000</td>\n",
       "    </tr>\n",
       "    <tr>\n",
       "      <th>2018-01-23</th>\n",
       "      <td>9900.000000</td>\n",
       "      <td>9700.000000</td>\n",
       "      <td>9900.000000</td>\n",
       "      <td>9900.000000</td>\n",
       "      <td>184915.0</td>\n",
       "      <td>9900.000000</td>\n",
       "    </tr>\n",
       "    <tr>\n",
       "      <th>2018-01-26</th>\n",
       "      <td>9500.000000</td>\n",
       "      <td>8400.000000</td>\n",
       "      <td>9300.000000</td>\n",
       "      <td>9300.000000</td>\n",
       "      <td>277990.0</td>\n",
       "      <td>9300.000000</td>\n",
       "    </tr>\n",
       "    <tr>\n",
       "      <th>2018-01-30</th>\n",
       "      <td>9700.000000</td>\n",
       "      <td>9300.000000</td>\n",
       "      <td>9700.000000</td>\n",
       "      <td>9300.000000</td>\n",
       "      <td>311049.0</td>\n",
       "      <td>9300.000000</td>\n",
       "    </tr>\n",
       "    <tr>\n",
       "      <th>2018-01-31</th>\n",
       "      <td>9400.000000</td>\n",
       "      <td>9100.000000</td>\n",
       "      <td>9400.000000</td>\n",
       "      <td>9300.000000</td>\n",
       "      <td>82483.0</td>\n",
       "      <td>9300.000000</td>\n",
       "    </tr>\n",
       "  </tbody>\n",
       "</table>\n",
       "<p>787 rows × 6 columns</p>\n",
       "</div>"
      ],
      "text/plain": [
       "                    High           Low          Open         Close    Volume  \\\n",
       "Date                                                                           \n",
       "2014-12-04  30096.900391  27953.000000  28200.400391  28447.699219  811330.0   \n",
       "2014-12-05  27540.699219  25974.000000  26551.199219  26056.500000  377529.0   \n",
       "2014-12-08  26056.500000  23582.800781  25231.900391  23582.800781  367585.0   \n",
       "2014-12-09  23582.800781  21274.000000  23582.800781  21274.000000  570963.0   \n",
       "2014-12-10  20202.000000  19212.500000  19789.699219  19295.000000  539795.0   \n",
       "...                  ...           ...           ...           ...       ...   \n",
       "2018-01-22  10000.000000   9600.000000   9900.000000   9800.000000  257523.0   \n",
       "2018-01-23   9900.000000   9700.000000   9900.000000   9900.000000  184915.0   \n",
       "2018-01-26   9500.000000   8400.000000   9300.000000   9300.000000  277990.0   \n",
       "2018-01-30   9700.000000   9300.000000   9700.000000   9300.000000  311049.0   \n",
       "2018-01-31   9400.000000   9100.000000   9400.000000   9300.000000   82483.0   \n",
       "\n",
       "               Adj Close  \n",
       "Date                      \n",
       "2014-12-04  28447.699219  \n",
       "2014-12-05  26056.500000  \n",
       "2014-12-08  23582.800781  \n",
       "2014-12-09  21274.000000  \n",
       "2014-12-10  19295.000000  \n",
       "...                  ...  \n",
       "2018-01-22   9800.000000  \n",
       "2018-01-23   9900.000000  \n",
       "2018-01-26   9300.000000  \n",
       "2018-01-30   9300.000000  \n",
       "2018-01-31   9300.000000  \n",
       "\n",
       "[787 rows x 6 columns]"
      ]
     },
     "execution_count": 11,
     "metadata": {},
     "output_type": "execute_result"
    }
   ],
   "source": [
    "vix = pd.read_pickle('stocks_dfs/VIX.pkl')\n",
    "vix"
   ]
  },
  {
   "cell_type": "code",
   "execution_count": 12,
   "metadata": {},
   "outputs": [
    {
     "data": {
      "text/plain": [
       "[<matplotlib.lines.Line2D at 0x279f63f62e0>]"
      ]
     },
     "execution_count": 12,
     "metadata": {},
     "output_type": "execute_result"
    },
    {
     "data": {
      "image/png": "[encoded data removed]",
      "text/plain": [
       "<Figure size 432x288 with 1 Axes>"
      ]
     },
     "metadata": {
      "needs_background": "light"
     },
     "output_type": "display_data"
    }
   ],
   "source": [
    "close = vix.Close\n",
    "plt.plot(close)"
   ]
  },
  {
   "cell_type": "code",
   "execution_count": 13,
   "metadata": {},
   "outputs": [],
   "source": [
    "L = 1\n",
    "m = 600\n",
    "q = 1024"
   ]
  },
  {
   "cell_type": "code",
   "execution_count": null,
   "metadata": {},
   "outputs": [],
   "source": [
    "model = Sequential([\n",
    "  Dense(q, activation='tanh', input_shape=(m,))\n",
    "  Dense(1, activation)\n",
    "])\n",
    "\n",
    "model.compile(\n",
    "  optimizer='adam',\n",
    "  loss='mean_squared_error',\n",
    "  metrics=['accuracy'],\n",
    ")\n",
    "\n",
    "model.fit(\n",
    "  train, # training data\n",
    "  epochs=5,\n",
    "  batch_size=32,\n",
    ")"
   ]
  },
  {
   "cell_type": "code",
   "execution_count": null,
   "metadata": {},
   "outputs": [],
   "source": []
  }
 ],
 "metadata": {
  "kernelspec": {
   "display_name": "Python 3",
   "language": "python",
   "name": "python3"
  },
  "language_info": {
   "codemirror_mode": {
    "name": "ipython",
    "version": 3
   },
   "file_extension": ".py",
   "mimetype": "text/x-python",
   "name": "python",
   "nbconvert_exporter": "python",
   "pygments_lexer": "ipython3",
   "version": "3.8.6"
  }
 },
 "nbformat": 4,
 "nbformat_minor": 4
}
