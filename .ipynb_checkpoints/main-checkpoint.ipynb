{
 "cells": [
  {
   "cell_type": "code",
   "execution_count": null,
   "metadata": {},
   "outputs": [],
   "source": [
    "import datetime as dt\n",
    "import os\n",
    "import pandas as pd\n",
    "import pickle\n",
    "import matplotlib.pyplot as plt\n",
    "import numpy as np\n",
    "import tensorflow as tf\n",
    "from pandas_datareader import data as pdr\n",
    "from tensorflow.keras.models import Sequential\n",
    "from tensorflow.keras.layers import Dense\n",
    "from sklearn.preprocessing import StandardScaler\n",
    "from lyap import *\n",
    "from Lyapunov import *"
   ]
  },
  {
   "cell_type": "code",
   "execution_count": null,
   "metadata": {},
   "outputs": [],
   "source": [
    "'''The data are composed of eight daily major volatility indexes, mainly, the\n",
    "VIX (S&P 500 volatility, U.S.), VSTOXX (STOXX 50 volatility, Eurozone),\n",
    "JNIV (Nikkei 225 volatility, Japan), VFTSE (FTSE 100 volatility, U.K.),\n",
    "VDAX (DAX 30 volatility, Germany), VCAC (CAC 40 volatility, France),\n",
    "VAEX (AEX volatility, Netherlands), VSMI (SMI volatility, Switzerland),\n",
    "from January 1, 2001 until December 15, 2016 collected from Datastream.\n",
    "Volatility indexes (divided by 100) are the implied standard deviations of\n",
    "Options on the corresponding market indexes over the next 30 days.'''"
   ]
  },
  {
   "cell_type": "code",
   "execution_count": null,
   "metadata": {
    "scrolled": true
   },
   "outputs": [],
   "source": [
    "df = pd.read_csv('VIX.csv').loc[251:4265]\n",
    "df.index = np.arange(len(df))\n",
    "df"
   ]
  },
  {
   "cell_type": "code",
   "execution_count": null,
   "metadata": {},
   "outputs": [],
   "source": [
    "#df['Ultimo'] = df['Ultimo'].str.replace(',','.')\n",
    "#df['Ultimo'] = list(map(float, df['Ultimo']))"
   ]
  },
  {
   "cell_type": "code",
   "execution_count": null,
   "metadata": {},
   "outputs": [],
   "source": [
    "df['Close'] = df['Close']/100\n",
    "close = df['Close']\n",
    "plt.plot(close)"
   ]
  },
  {
   "cell_type": "code",
   "execution_count": null,
   "metadata": {},
   "outputs": [],
   "source": [
    "df.describe()"
   ]
  },
  {
   "cell_type": "code",
   "execution_count": null,
   "metadata": {},
   "outputs": [],
   "source": [
    "# Dimensionality parameters\n",
    "L = 1   # step granularity\n",
    "m = 4  # window size\n",
    "q = 1   # number of neurons"
   ]
  },
  {
   "cell_type": "code",
   "execution_count": null,
   "metadata": {},
   "outputs": [],
   "source": [
    "def sliding_window(df, m, L): \n",
    "    slid_w = []\n",
    "    targets = []\n",
    "    for i,row in df.iterrows():\n",
    "        if i + m*L < len(df.index):\n",
    "            slid_w.append(list(df.loc[i:i+L*m-1:L,'Close']))\n",
    "            targets.append(df.loc[i+m*L,'Close'])\n",
    "    data = pd.DataFrame(slid_w)\n",
    "    return data,targets\n",
    "\n",
    "X, y = sliding_window(df, m, L)\n",
    "y = pd.DataFrame(y, columns = ['target'])"
   ]
  },
  {
   "cell_type": "code",
   "execution_count": null,
   "metadata": {},
   "outputs": [],
   "source": [
    "tf.random.set_seed(17)\n",
    "model = Sequential([\n",
    "  Dense(q, activation='tanh', input_shape=(m,)),\n",
    "  Dense(1),\n",
    "])\n",
    "\n",
    "model.compile(\n",
    "  optimizer='adam',\n",
    "  loss='mean_squared_error',\n",
    "  metrics=['mse'],\n",
    ")\n",
    "\n",
    "model.fit(X, np.asarray(y), epochs=1000, verbose = False)\n",
    "model.evaluate(X, np.asarray(y))"
   ]
  },
  {
   "cell_type": "code",
   "execution_count": null,
   "metadata": {},
   "outputs": [],
   "source": [
    "new_y = pd.DataFrame(model.predict(X).reshape(1,-1)).T\n",
    "new_y.columns = ['target']\n",
    "'''new_X = pd.concat([X, y_predict], axis = 1)\n",
    "new_X = pd.DataFrame(scaler.inverse_transform(new_X))\n",
    "new_y = new_X[m]'''"
   ]
  },
  {
   "cell_type": "code",
   "execution_count": null,
   "metadata": {},
   "outputs": [],
   "source": [
    "new_close = close[m:]\n",
    "new_close.index = range(len(new_close))"
   ]
  },
  {
   "cell_type": "code",
   "execution_count": null,
   "metadata": {},
   "outputs": [],
   "source": [
    "plt.plot(new_y[:4000],c = 'red')\n",
    "plt.plot(new_close[:4000])"
   ]
  },
  {
   "cell_type": "code",
   "execution_count": null,
   "metadata": {},
   "outputs": [],
   "source": [
    "T = len(new_y)\n",
    "alpha_0 = model.layers[1].get_weights()[1]\n",
    "alpha_1 = model.layers[1].get_weights()[0]\n",
    "beta_0 = model.layers[0].get_weights()[1]\n",
    "beta_1 = np.asmatrix(model.layers[0].get_weights()[0])\n",
    "l2 = lyapunov_coeff(T, q, m, close, alpha_0, alpha_1, beta_0, beta_1, np.tanh)\n",
    "print(l2)"
   ]
  },
  {
   "cell_type": "code",
   "execution_count": null,
   "metadata": {},
   "outputs": [],
   "source": [
    "T= len(new_y)\n",
    "a=model.layers[1].get_weights()[0]\n",
    "b=model.layers[0].get_weights()[0]\n",
    "bi=model.layers[0].get_weights()[1]\n",
    "l=Lyapunov(a, b, bi, close,L,m,q,T)\n",
    "print(l) "
   ]
  },
  {
   "cell_type": "code",
   "execution_count": null,
   "metadata": {},
   "outputs": [],
   "source": []
  }
 ],
 "metadata": {
  "kernelspec": {
   "display_name": "Python 3",
   "language": "python",
   "name": "python3"
  },
  "language_info": {
   "codemirror_mode": {
    "name": "ipython",
    "version": 3
   },
   "file_extension": ".py",
   "mimetype": "text/x-python",
   "name": "python",
   "nbconvert_exporter": "python",
   "pygments_lexer": "ipython3",
   "version": "3.8.6"
  }
 },
 "nbformat": 4,
 "nbformat_minor": 4
}
