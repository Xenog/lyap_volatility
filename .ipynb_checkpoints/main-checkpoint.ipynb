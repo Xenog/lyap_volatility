{
 "cells": [
  {
   "cell_type": "code",
   "execution_count": 1,
   "metadata": {},
   "outputs": [],
   "source": [
    "import datetime as dt\n",
    "import os\n",
    "import pandas as pd\n",
    "import pickle\n",
    "import matplotlib.pyplot as plt\n",
    "import numpy as np\n",
    "import tensorflow as tf\n",
    "from pandas_datareader import data as pdr\n",
    "from tensorflow.keras.models import Sequential\n",
    "from tensorflow.keras.layers import Dense\n",
    "from sklearn.preprocessing import StandardScaler\n",
    "from lyap import lyapunov_coeff, sliding_window\n",
    "from Lyapunov import *"
   ]
  },
  {
   "cell_type": "code",
   "execution_count": 2,
   "metadata": {},
   "outputs": [
    {
     "data": {
      "text/plain": [
       "'The data are composed of eight daily major volatility indexes, mainly, the\\nVIX (S&P 500 volatility, U.S.), VSTOXX (STOXX 50 volatility, Eurozone),\\nJNIV (Nikkei 225 volatility, Japan), VFTSE (FTSE 100 volatility, U.K.),\\nVDAX (DAX 30 volatility, Germany), VCAC (CAC 40 volatility, France),\\nVAEX (AEX volatility, Netherlands), VSMI (SMI volatility, Switzerland),\\nfrom January 1, 2001 until December 15, 2016 collected from Datastream.\\nVolatility indexes (divided by 100) are the implied standard deviations of\\nOptions on the corresponding market indexes over the next 30 days.'"
      ]
     },
     "execution_count": 2,
     "metadata": {},
     "output_type": "execute_result"
    }
   ],
   "source": [
    "'''The data are composed of eight daily major volatility indexes, mainly, the\n",
    "VIX (S&P 500 volatility, U.S.), VSTOXX (STOXX 50 volatility, Eurozone),\n",
    "JNIV (Nikkei 225 volatility, Japan), VFTSE (FTSE 100 volatility, U.K.),\n",
    "VDAX (DAX 30 volatility, Germany), VCAC (CAC 40 volatility, France),\n",
    "VAEX (AEX volatility, Netherlands), VSMI (SMI volatility, Switzerland),\n",
    "from January 1, 2001 until December 15, 2016 collected from Datastream.\n",
    "Volatility indexes (divided by 100) are the implied standard deviations of\n",
    "Options on the corresponding market indexes over the next 30 days.'''"
   ]
  },
  {
   "cell_type": "code",
   "execution_count": 3,
   "metadata": {
    "scrolled": true
   },
   "outputs": [
    {
     "data": {
      "text/html": [
       "<div>\n",
       "<style scoped>\n",
       "    .dataframe tbody tr th:only-of-type {\n",
       "        vertical-align: middle;\n",
       "    }\n",
       "\n",
       "    .dataframe tbody tr th {\n",
       "        vertical-align: top;\n",
       "    }\n",
       "\n",
       "    .dataframe thead th {\n",
       "        text-align: right;\n",
       "    }\n",
       "</style>\n",
       "<table border=\"1\" class=\"dataframe\">\n",
       "  <thead>\n",
       "    <tr style=\"text-align: right;\">\n",
       "      <th></th>\n",
       "      <th>Date</th>\n",
       "      <th>Open</th>\n",
       "      <th>High</th>\n",
       "      <th>Low</th>\n",
       "      <th>Close</th>\n",
       "      <th>Adj Close</th>\n",
       "      <th>Volume</th>\n",
       "    </tr>\n",
       "  </thead>\n",
       "  <tbody>\n",
       "    <tr>\n",
       "      <th>0</th>\n",
       "      <td>2015-01-02</td>\n",
       "      <td>527.561584</td>\n",
       "      <td>529.815369</td>\n",
       "      <td>522.665039</td>\n",
       "      <td>523.373108</td>\n",
       "      <td>523.373108</td>\n",
       "      <td>1447500</td>\n",
       "    </tr>\n",
       "    <tr>\n",
       "      <th>1</th>\n",
       "      <td>2015-01-05</td>\n",
       "      <td>521.827332</td>\n",
       "      <td>522.894409</td>\n",
       "      <td>511.655243</td>\n",
       "      <td>512.463013</td>\n",
       "      <td>512.463013</td>\n",
       "      <td>2059800</td>\n",
       "    </tr>\n",
       "    <tr>\n",
       "      <th>2</th>\n",
       "      <td>2015-01-06</td>\n",
       "      <td>513.589966</td>\n",
       "      <td>514.761719</td>\n",
       "      <td>499.678131</td>\n",
       "      <td>500.585632</td>\n",
       "      <td>500.585632</td>\n",
       "      <td>2899900</td>\n",
       "    </tr>\n",
       "    <tr>\n",
       "      <th>3</th>\n",
       "      <td>2015-01-07</td>\n",
       "      <td>505.611847</td>\n",
       "      <td>505.855164</td>\n",
       "      <td>498.281952</td>\n",
       "      <td>499.727997</td>\n",
       "      <td>499.727997</td>\n",
       "      <td>2065000</td>\n",
       "    </tr>\n",
       "    <tr>\n",
       "      <th>4</th>\n",
       "      <td>2015-01-08</td>\n",
       "      <td>496.626526</td>\n",
       "      <td>502.101471</td>\n",
       "      <td>489.655640</td>\n",
       "      <td>501.303680</td>\n",
       "      <td>501.303680</td>\n",
       "      <td>3353500</td>\n",
       "    </tr>\n",
       "    <tr>\n",
       "      <th>...</th>\n",
       "      <td>...</td>\n",
       "      <td>...</td>\n",
       "      <td>...</td>\n",
       "      <td>...</td>\n",
       "      <td>...</td>\n",
       "      <td>...</td>\n",
       "      <td>...</td>\n",
       "    </tr>\n",
       "    <tr>\n",
       "      <th>1472</th>\n",
       "      <td>2020-11-05</td>\n",
       "      <td>1781.000000</td>\n",
       "      <td>1793.640015</td>\n",
       "      <td>1750.510010</td>\n",
       "      <td>1763.369995</td>\n",
       "      <td>1763.369995</td>\n",
       "      <td>2065800</td>\n",
       "    </tr>\n",
       "    <tr>\n",
       "      <th>1473</th>\n",
       "      <td>2020-11-06</td>\n",
       "      <td>1753.949951</td>\n",
       "      <td>1772.430054</td>\n",
       "      <td>1740.349976</td>\n",
       "      <td>1761.750000</td>\n",
       "      <td>1761.750000</td>\n",
       "      <td>1660900</td>\n",
       "    </tr>\n",
       "    <tr>\n",
       "      <th>1474</th>\n",
       "      <td>2020-11-09</td>\n",
       "      <td>1790.900024</td>\n",
       "      <td>1818.060059</td>\n",
       "      <td>1760.020020</td>\n",
       "      <td>1763.000000</td>\n",
       "      <td>1763.000000</td>\n",
       "      <td>2268300</td>\n",
       "    </tr>\n",
       "    <tr>\n",
       "      <th>1475</th>\n",
       "      <td>2020-11-10</td>\n",
       "      <td>1731.089966</td>\n",
       "      <td>1763.000000</td>\n",
       "      <td>1717.300049</td>\n",
       "      <td>1740.390015</td>\n",
       "      <td>1740.390015</td>\n",
       "      <td>2636100</td>\n",
       "    </tr>\n",
       "    <tr>\n",
       "      <th>1476</th>\n",
       "      <td>2020-11-11</td>\n",
       "      <td>1750.000000</td>\n",
       "      <td>1764.219971</td>\n",
       "      <td>1747.364990</td>\n",
       "      <td>1752.709961</td>\n",
       "      <td>1752.709961</td>\n",
       "      <td>1262900</td>\n",
       "    </tr>\n",
       "  </tbody>\n",
       "</table>\n",
       "<p>1477 rows × 7 columns</p>\n",
       "</div>"
      ],
      "text/plain": [
       "            Date         Open         High          Low        Close  \\\n",
       "0     2015-01-02   527.561584   529.815369   522.665039   523.373108   \n",
       "1     2015-01-05   521.827332   522.894409   511.655243   512.463013   \n",
       "2     2015-01-06   513.589966   514.761719   499.678131   500.585632   \n",
       "3     2015-01-07   505.611847   505.855164   498.281952   499.727997   \n",
       "4     2015-01-08   496.626526   502.101471   489.655640   501.303680   \n",
       "...          ...          ...          ...          ...          ...   \n",
       "1472  2020-11-05  1781.000000  1793.640015  1750.510010  1763.369995   \n",
       "1473  2020-11-06  1753.949951  1772.430054  1740.349976  1761.750000   \n",
       "1474  2020-11-09  1790.900024  1818.060059  1760.020020  1763.000000   \n",
       "1475  2020-11-10  1731.089966  1763.000000  1717.300049  1740.390015   \n",
       "1476  2020-11-11  1750.000000  1764.219971  1747.364990  1752.709961   \n",
       "\n",
       "        Adj Close   Volume  \n",
       "0      523.373108  1447500  \n",
       "1      512.463013  2059800  \n",
       "2      500.585632  2899900  \n",
       "3      499.727997  2065000  \n",
       "4      501.303680  3353500  \n",
       "...           ...      ...  \n",
       "1472  1763.369995  2065800  \n",
       "1473  1761.750000  1660900  \n",
       "1474  1763.000000  2268300  \n",
       "1475  1740.390015  2636100  \n",
       "1476  1752.709961  1262900  \n",
       "\n",
       "[1477 rows x 7 columns]"
      ]
     },
     "execution_count": 3,
     "metadata": {},
     "output_type": "execute_result"
    }
   ],
   "source": [
    "stock = 'GOOG'\n",
    "df = pd.read_csv(stock+'.csv')#.loc[251:4265]\n",
    "df.index = np.arange(len(df))\n",
    "df"
   ]
  },
  {
   "cell_type": "code",
   "execution_count": 89,
   "metadata": {},
   "outputs": [
    {
     "data": {
      "text/plain": [
       "[<matplotlib.lines.Line2D at 0x2272ded86a0>]"
      ]
     },
     "execution_count": 89,
     "metadata": {},
     "output_type": "execute_result"
    },
    {
     "data": {
      "image/png": "[encoded data removed]",
      "text/plain": [
       "<Figure size 432x288 with 1 Axes>"
      ]
     },
     "metadata": {
      "needs_background": "light"
     },
     "output_type": "display_data"
    }
   ],
   "source": [
    "scaler = StandardScaler()\n",
    "close = np.array(df['Close']).reshape(-1,1)\n",
    "close = scaler.fit_transform(close).T.reshape(-1)\n",
    "plt.plot(close)"
   ]
  },
  {
   "cell_type": "code",
   "execution_count": 90,
   "metadata": {},
   "outputs": [],
   "source": [
    "# Dimensionality parameters\n",
    "L = 2   # step granularity\n",
    "m = 5  # window size\n",
    "q = 2   # number of neurons"
   ]
  },
  {
   "cell_type": "code",
   "execution_count": 104,
   "metadata": {},
   "outputs": [],
   "source": [
    "def sliding_window(vec, m, L): \n",
    "    n = len(vec)\n",
    "    slid_w = np.empty(m)\n",
    "    targets = np.empty(1)\n",
    "    for i in range(0,n-m*L,L):\n",
    "        slid_w = np.vstack((slid_w,vec[i:i+m*L:L]))\n",
    "        targets = np.append(targets,vec[i+m*L])\n",
    "    return pd.DataFrame(data = slid_w, index = np.arange(len(slid_w))), targets\n",
    "\n",
    "X, y = sliding_window(close, m, L)\n",
    "y = pd.DataFrame(y, columns = ['target'])"
   ]
  },
  {
   "cell_type": "code",
   "execution_count": 108,
   "metadata": {},
   "outputs": [
    {
     "name": "stdout",
     "output_type": "stream",
     "text": [
      "10\n",
      "9\n",
      "8\n",
      "7\n",
      "6\n",
      "5\n",
      "4\n",
      "3\n",
      "2\n",
      "1\n",
      "0\n"
     ]
    }
   ],
   "source": [
    "for i in range(10,0-1,-1):\n",
    "    print(i)"
   ]
  },
  {
   "cell_type": "code",
   "execution_count": 105,
   "metadata": {},
   "outputs": [
    {
     "data": {
      "text/html": [
       "<div>\n",
       "<style scoped>\n",
       "    .dataframe tbody tr th:only-of-type {\n",
       "        vertical-align: middle;\n",
       "    }\n",
       "\n",
       "    .dataframe tbody tr th {\n",
       "        vertical-align: top;\n",
       "    }\n",
       "\n",
       "    .dataframe thead th {\n",
       "        text-align: right;\n",
       "    }\n",
       "</style>\n",
       "<table border=\"1\" class=\"dataframe\">\n",
       "  <thead>\n",
       "    <tr style=\"text-align: right;\">\n",
       "      <th></th>\n",
       "      <th>0</th>\n",
       "      <th>1</th>\n",
       "      <th>2</th>\n",
       "      <th>3</th>\n",
       "      <th>4</th>\n",
       "    </tr>\n",
       "  </thead>\n",
       "  <tbody>\n",
       "    <tr>\n",
       "      <th>0</th>\n",
       "      <td>2.642669</td>\n",
       "      <td>-1.681276</td>\n",
       "      <td>-1.646808</td>\n",
       "      <td>-1.570984</td>\n",
       "      <td>-1.644766</td>\n",
       "    </tr>\n",
       "    <tr>\n",
       "      <th>1</th>\n",
       "      <td>-1.623379</td>\n",
       "      <td>-1.702456</td>\n",
       "      <td>-1.699964</td>\n",
       "      <td>-1.735021</td>\n",
       "      <td>-1.706228</td>\n",
       "    </tr>\n",
       "    <tr>\n",
       "      <th>2</th>\n",
       "      <td>-1.702456</td>\n",
       "      <td>-1.699964</td>\n",
       "      <td>-1.735021</td>\n",
       "      <td>-1.706228</td>\n",
       "      <td>-1.681276</td>\n",
       "    </tr>\n",
       "    <tr>\n",
       "      <th>3</th>\n",
       "      <td>-1.699964</td>\n",
       "      <td>-1.735021</td>\n",
       "      <td>-1.706228</td>\n",
       "      <td>-1.681276</td>\n",
       "      <td>-1.646808</td>\n",
       "    </tr>\n",
       "    <tr>\n",
       "      <th>4</th>\n",
       "      <td>-1.735021</td>\n",
       "      <td>-1.706228</td>\n",
       "      <td>-1.681276</td>\n",
       "      <td>-1.646808</td>\n",
       "      <td>-1.570984</td>\n",
       "    </tr>\n",
       "    <tr>\n",
       "      <th>...</th>\n",
       "      <td>...</td>\n",
       "      <td>...</td>\n",
       "      <td>...</td>\n",
       "      <td>...</td>\n",
       "      <td>...</td>\n",
       "    </tr>\n",
       "    <tr>\n",
       "      <th>730</th>\n",
       "      <td>2.019074</td>\n",
       "      <td>1.959803</td>\n",
       "      <td>2.165933</td>\n",
       "      <td>2.079594</td>\n",
       "      <td>1.823389</td>\n",
       "    </tr>\n",
       "    <tr>\n",
       "      <th>731</th>\n",
       "      <td>1.959803</td>\n",
       "      <td>2.165933</td>\n",
       "      <td>2.079594</td>\n",
       "      <td>1.823389</td>\n",
       "      <td>2.185644</td>\n",
       "    </tr>\n",
       "    <tr>\n",
       "      <th>732</th>\n",
       "      <td>2.165933</td>\n",
       "      <td>2.079594</td>\n",
       "      <td>1.823389</td>\n",
       "      <td>2.185644</td>\n",
       "      <td>2.286973</td>\n",
       "    </tr>\n",
       "    <tr>\n",
       "      <th>733</th>\n",
       "      <td>2.079594</td>\n",
       "      <td>1.823389</td>\n",
       "      <td>2.185644</td>\n",
       "      <td>2.286973</td>\n",
       "      <td>2.679662</td>\n",
       "    </tr>\n",
       "    <tr>\n",
       "      <th>734</th>\n",
       "      <td>1.823389</td>\n",
       "      <td>2.185644</td>\n",
       "      <td>2.286973</td>\n",
       "      <td>2.679662</td>\n",
       "      <td>2.678378</td>\n",
       "    </tr>\n",
       "  </tbody>\n",
       "</table>\n",
       "<p>735 rows × 5 columns</p>\n",
       "</div>"
      ],
      "text/plain": [
       "            0         1         2         3         4\n",
       "0    2.642669 -1.681276 -1.646808 -1.570984 -1.644766\n",
       "1   -1.623379 -1.702456 -1.699964 -1.735021 -1.706228\n",
       "2   -1.702456 -1.699964 -1.735021 -1.706228 -1.681276\n",
       "3   -1.699964 -1.735021 -1.706228 -1.681276 -1.646808\n",
       "4   -1.735021 -1.706228 -1.681276 -1.646808 -1.570984\n",
       "..        ...       ...       ...       ...       ...\n",
       "730  2.019074  1.959803  2.165933  2.079594  1.823389\n",
       "731  1.959803  2.165933  2.079594  1.823389  2.185644\n",
       "732  2.165933  2.079594  1.823389  2.185644  2.286973\n",
       "733  2.079594  1.823389  2.185644  2.286973  2.679662\n",
       "734  1.823389  2.185644  2.286973  2.679662  2.678378\n",
       "\n",
       "[735 rows x 5 columns]"
      ]
     },
     "execution_count": 105,
     "metadata": {},
     "output_type": "execute_result"
    }
   ],
   "source": [
    "X"
   ]
  },
  {
   "cell_type": "code",
   "execution_count": 9,
   "metadata": {},
   "outputs": [
    {
     "name": "stdout",
     "output_type": "stream",
     "text": [
      "46/46 [==============================] - 0s 1ms/step - loss: 5.0671e-04 - mse: 5.0671e-04\n"
     ]
    },
    {
     "data": {
      "text/plain": [
       "[0.0005067061283625662, 0.0005067061283625662]"
      ]
     },
     "execution_count": 9,
     "metadata": {},
     "output_type": "execute_result"
    }
   ],
   "source": [
    "tf.random.set_seed(17)\n",
    "model = Sequential([\n",
    "  Dense(q, activation='tanh', input_shape=(m,)),\n",
    "  Dense(1),\n",
    "])\n",
    "\n",
    "model.compile(\n",
    "  optimizer='adam',\n",
    "  loss='mean_squared_error',\n",
    "  metrics=['mse'],\n",
    ")\n",
    "\n",
    "model.fit(X, np.asarray(y), epochs=500, verbose = False)\n",
    "model.evaluate(X, np.asarray(y))"
   ]
  },
  {
   "cell_type": "code",
   "execution_count": 10,
   "metadata": {},
   "outputs": [],
   "source": [
    "new_y = pd.DataFrame(model.predict(X).reshape(1,-1)).T.values.reshape(-1)"
   ]
  },
  {
   "cell_type": "code",
   "execution_count": 13,
   "metadata": {},
   "outputs": [
    {
     "name": "stdout",
     "output_type": "stream",
     "text": [
      "0.0027891541468846415\n"
     ]
    }
   ],
   "source": [
    "T = len(new_y)\n",
    "alpha_0 = model.layers[1].get_weights()[1]\n",
    "alpha_1 = model.layers[1].get_weights()[0]\n",
    "beta_0 = model.layers[0].get_weights()[1]\n",
    "beta_1 = np.asmatrix(model.layers[0].get_weights()[0])\n",
    "l2 = lyapunov_coeff(q, m, close, alpha_0, alpha_1, beta_0, beta_1)\n",
    "print(l2)"
   ]
  },
  {
   "cell_type": "code",
   "execution_count": 14,
   "metadata": {},
   "outputs": [
    {
     "ename": "ValueError",
     "evalue": "shapes (5,) and (0,) not aligned: 5 (dim 0) != 0 (dim 0)",
     "output_type": "error",
     "traceback": [
      "\u001b[1;31m---------------------------------------------------------------------------\u001b[0m",
      "\u001b[1;31mValueError\u001b[0m                                Traceback (most recent call last)",
      "\u001b[1;32m<ipython-input-14-4690b71f8de7>\u001b[0m in \u001b[0;36m<module>\u001b[1;34m\u001b[0m\n\u001b[0;32m      3\u001b[0m \u001b[0mb\u001b[0m\u001b[1;33m=\u001b[0m\u001b[0mmodel\u001b[0m\u001b[1;33m.\u001b[0m\u001b[0mlayers\u001b[0m\u001b[1;33m[\u001b[0m\u001b[1;36m0\u001b[0m\u001b[1;33m]\u001b[0m\u001b[1;33m.\u001b[0m\u001b[0mget_weights\u001b[0m\u001b[1;33m(\u001b[0m\u001b[1;33m)\u001b[0m\u001b[1;33m[\u001b[0m\u001b[1;36m0\u001b[0m\u001b[1;33m]\u001b[0m\u001b[1;33m\u001b[0m\u001b[1;33m\u001b[0m\u001b[0m\n\u001b[0;32m      4\u001b[0m \u001b[0mbi\u001b[0m\u001b[1;33m=\u001b[0m\u001b[0mmodel\u001b[0m\u001b[1;33m.\u001b[0m\u001b[0mlayers\u001b[0m\u001b[1;33m[\u001b[0m\u001b[1;36m0\u001b[0m\u001b[1;33m]\u001b[0m\u001b[1;33m.\u001b[0m\u001b[0mget_weights\u001b[0m\u001b[1;33m(\u001b[0m\u001b[1;33m)\u001b[0m\u001b[1;33m[\u001b[0m\u001b[1;36m1\u001b[0m\u001b[1;33m]\u001b[0m\u001b[1;33m\u001b[0m\u001b[1;33m\u001b[0m\u001b[0m\n\u001b[1;32m----> 5\u001b[1;33m \u001b[0ml\u001b[0m\u001b[1;33m=\u001b[0m\u001b[0mLyapunov\u001b[0m\u001b[1;33m(\u001b[0m\u001b[0ma\u001b[0m\u001b[1;33m,\u001b[0m \u001b[0mb\u001b[0m\u001b[1;33m,\u001b[0m \u001b[0mbi\u001b[0m\u001b[1;33m,\u001b[0m \u001b[0mclose\u001b[0m\u001b[1;33m,\u001b[0m\u001b[0mL\u001b[0m\u001b[1;33m,\u001b[0m\u001b[0mm\u001b[0m\u001b[1;33m,\u001b[0m\u001b[0mq\u001b[0m\u001b[1;33m,\u001b[0m\u001b[0mT\u001b[0m\u001b[1;33m)\u001b[0m\u001b[1;33m\u001b[0m\u001b[1;33m\u001b[0m\u001b[0m\n\u001b[0m\u001b[0;32m      6\u001b[0m \u001b[0mprint\u001b[0m\u001b[1;33m(\u001b[0m\u001b[0ml\u001b[0m\u001b[1;33m)\u001b[0m\u001b[1;33m\u001b[0m\u001b[1;33m\u001b[0m\u001b[0m\n",
      "\u001b[1;32m~\\desktop\\DDM\\Lyapunov.py\u001b[0m in \u001b[0;36mLyapunov\u001b[1;34m(alpha, beta, bias, x, L, m, q, T)\u001b[0m\n\u001b[0;32m     43\u001b[0m     \u001b[0mTm\u001b[0m\u001b[1;33m=\u001b[0m\u001b[0mnp\u001b[0m\u001b[1;33m.\u001b[0m\u001b[0midentity\u001b[0m\u001b[1;33m(\u001b[0m\u001b[0mm\u001b[0m\u001b[1;33m)\u001b[0m\u001b[1;33m\u001b[0m\u001b[1;33m\u001b[0m\u001b[0m\n\u001b[0;32m     44\u001b[0m     \u001b[1;32mfor\u001b[0m \u001b[0mi\u001b[0m \u001b[1;32min\u001b[0m \u001b[0mrange\u001b[0m\u001b[1;33m(\u001b[0m\u001b[0mM\u001b[0m\u001b[1;33m,\u001b[0m\u001b[0mm\u001b[0m\u001b[1;33m,\u001b[0m\u001b[1;33m-\u001b[0m\u001b[1;36m1\u001b[0m\u001b[1;33m)\u001b[0m\u001b[1;33m:\u001b[0m\u001b[1;33m\u001b[0m\u001b[1;33m\u001b[0m\u001b[0m\n\u001b[1;32m---> 45\u001b[1;33m         \u001b[0mJ\u001b[0m\u001b[1;33m=\u001b[0m\u001b[0mJacobian\u001b[0m\u001b[1;33m(\u001b[0m\u001b[0malpha\u001b[0m\u001b[1;33m,\u001b[0m\u001b[0mbeta\u001b[0m\u001b[1;33m,\u001b[0m\u001b[0mbias\u001b[0m\u001b[1;33m,\u001b[0m\u001b[0mx\u001b[0m\u001b[1;33m,\u001b[0m\u001b[0mL\u001b[0m\u001b[1;33m,\u001b[0m\u001b[0mm\u001b[0m\u001b[1;33m,\u001b[0m\u001b[0mq\u001b[0m\u001b[1;33m,\u001b[0m\u001b[0mi\u001b[0m\u001b[1;33m)\u001b[0m\u001b[1;33m\u001b[0m\u001b[1;33m\u001b[0m\u001b[0m\n\u001b[0m\u001b[0;32m     46\u001b[0m         \u001b[0mTm\u001b[0m\u001b[1;33m=\u001b[0m\u001b[0mnp\u001b[0m\u001b[1;33m.\u001b[0m\u001b[0mdot\u001b[0m\u001b[1;33m(\u001b[0m\u001b[0mTm\u001b[0m\u001b[1;33m,\u001b[0m\u001b[0mJ\u001b[0m\u001b[1;33m)\u001b[0m\u001b[1;33m\u001b[0m\u001b[1;33m\u001b[0m\u001b[0m\n\u001b[0;32m     47\u001b[0m     \u001b[0mU0\u001b[0m\u001b[1;33m=\u001b[0m\u001b[0mnp\u001b[0m\u001b[1;33m.\u001b[0m\u001b[0mzeros\u001b[0m\u001b[1;33m(\u001b[0m\u001b[1;33m(\u001b[0m\u001b[0mm\u001b[0m\u001b[1;33m,\u001b[0m\u001b[1;36m1\u001b[0m\u001b[1;33m)\u001b[0m\u001b[1;33m)\u001b[0m\u001b[1;33m\u001b[0m\u001b[1;33m\u001b[0m\u001b[0m\n",
      "\u001b[1;32m~\\desktop\\DDM\\Lyapunov.py\u001b[0m in \u001b[0;36mJacobian\u001b[1;34m(alpha, beta, bias, x, L, m, q, t)\u001b[0m\n\u001b[0;32m     23\u001b[0m         \u001b[0mc\u001b[0m\u001b[1;33m=\u001b[0m\u001b[1;33m[\u001b[0m\u001b[1;33m]\u001b[0m\u001b[1;33m\u001b[0m\u001b[1;33m\u001b[0m\u001b[0m\n\u001b[0;32m     24\u001b[0m         \u001b[1;32mfor\u001b[0m \u001b[0mj\u001b[0m \u001b[1;32min\u001b[0m \u001b[0mrange\u001b[0m\u001b[1;33m(\u001b[0m\u001b[1;36m0\u001b[0m\u001b[1;33m,\u001b[0m\u001b[0mq\u001b[0m\u001b[1;33m)\u001b[0m\u001b[1;33m:\u001b[0m\u001b[1;33m\u001b[0m\u001b[1;33m\u001b[0m\u001b[0m\n\u001b[1;32m---> 25\u001b[1;33m           \u001b[0mz\u001b[0m \u001b[1;33m=\u001b[0m \u001b[0mbias\u001b[0m\u001b[1;33m[\u001b[0m\u001b[0mj\u001b[0m\u001b[1;33m]\u001b[0m\u001b[1;33m+\u001b[0m\u001b[0mbeta\u001b[0m\u001b[1;33m[\u001b[0m\u001b[1;33m:\u001b[0m\u001b[1;33m,\u001b[0m\u001b[0mj\u001b[0m\u001b[1;33m]\u001b[0m\u001b[1;33m.\u001b[0m\u001b[0mdot\u001b[0m\u001b[1;33m(\u001b[0m\u001b[0mx\u001b[0m\u001b[1;33m[\u001b[0m\u001b[1;33m(\u001b[0m\u001b[0mt\u001b[0m\u001b[1;33m-\u001b[0m\u001b[0mm\u001b[0m\u001b[1;33m*\u001b[0m\u001b[0mL\u001b[0m\u001b[1;33m)\u001b[0m\u001b[1;33m:\u001b[0m\u001b[1;33m(\u001b[0m\u001b[0mt\u001b[0m\u001b[1;33m)\u001b[0m\u001b[1;33m:\u001b[0m\u001b[0mL\u001b[0m\u001b[1;33m]\u001b[0m\u001b[1;33m)\u001b[0m\u001b[1;33m\u001b[0m\u001b[1;33m\u001b[0m\u001b[0m\n\u001b[0m\u001b[0;32m     26\u001b[0m           \u001b[0mder\u001b[0m\u001b[1;33m=\u001b[0m\u001b[0mtanh_x\u001b[0m\u001b[1;33m(\u001b[0m\u001b[0mz\u001b[0m\u001b[1;33m)\u001b[0m\u001b[1;33m\u001b[0m\u001b[1;33m\u001b[0m\u001b[0m\n\u001b[0;32m     27\u001b[0m           \u001b[0mc\u001b[0m\u001b[1;33m.\u001b[0m\u001b[0mappend\u001b[0m\u001b[1;33m(\u001b[0m\u001b[0malpha\u001b[0m\u001b[1;33m[\u001b[0m\u001b[0mj\u001b[0m\u001b[1;33m]\u001b[0m\u001b[1;33m*\u001b[0m\u001b[0mder\u001b[0m\u001b[1;33m*\u001b[0m\u001b[0mbeta\u001b[0m\u001b[1;33m[\u001b[0m\u001b[0mi\u001b[0m\u001b[1;33m,\u001b[0m\u001b[0mj\u001b[0m\u001b[1;33m]\u001b[0m\u001b[1;33m)\u001b[0m\u001b[1;33m\u001b[0m\u001b[1;33m\u001b[0m\u001b[0m\n",
      "\u001b[1;31mValueError\u001b[0m: shapes (5,) and (0,) not aligned: 5 (dim 0) != 0 (dim 0)"
     ]
    }
   ],
   "source": [
    "T= len(new_y)\n",
    "a=model.layers[1].get_weights()[0]\n",
    "b=model.layers[0].get_weights()[0]\n",
    "bi=model.layers[0].get_weights()[1]\n",
    "l=Lyapunov(a, b, bi, close,L,m,q,T)\n",
    "print(l) "
   ]
  },
  {
   "cell_type": "code",
   "execution_count": null,
   "metadata": {},
   "outputs": [],
   "source": []
  },
  {
   "cell_type": "code",
   "execution_count": null,
   "metadata": {},
   "outputs": [],
   "source": []
  }
 ],
 "metadata": {
  "kernelspec": {
   "display_name": "Python 3",
   "language": "python",
   "name": "python3"
  },
  "language_info": {
   "codemirror_mode": {
    "name": "ipython",
    "version": 3
   },
   "file_extension": ".py",
   "mimetype": "text/x-python",
   "name": "python",
   "nbconvert_exporter": "python",
   "pygments_lexer": "ipython3",
   "version": "3.8.6"
  }
 },
 "nbformat": 4,
 "nbformat_minor": 4
}
